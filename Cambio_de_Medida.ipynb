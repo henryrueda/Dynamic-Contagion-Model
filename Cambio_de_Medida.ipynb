{
 "cells": [
  {
   "cell_type": "code",
   "execution_count": 37,
   "metadata": {},
   "outputs": [],
   "source": [
    "import matplotlib.pyplot as plt\n",
    "from scipy.stats import describe\n",
    "import time\n",
    "import numpy as np\n",
    "import pandas as pd\n",
    "import operator\n",
    "from sympy import symbols, Eq, solve\n",
    "from sympy import *\n",
    "import cmath \n",
    "import math\n",
    "from astropy.table import QTable, Table, Column\n",
    "from astropy import units as u\n"
   ]
  },
  {
   "cell_type": "markdown",
   "metadata": {},
   "source": [
    "Los parámetros a utilizar durante la primera simulación serán:\n",
    "$$(a,\\rho,\\delta,\\alpha,\\beta,\\lambda_0,T,c,x_0)=(0.7,0.5,2.5,2.0,1.5,0.7,400,1.5,10) $$"
   ]
  },
  {
   "cell_type": "code",
   "execution_count": 38,
   "metadata": {},
   "outputs": [],
   "source": [
    "a=0.7\n",
    "rho=0.5\n",
    "delta=2.5\n",
    "alpha=2.0\n",
    "beta=1.5\n",
    "gamma=1.0\n",
    "lambda0=0.7\n",
    "c=1.5\n",
    "x_0=10\n",
    "T=400"
   ]
  },
  {
   "cell_type": "markdown",
   "metadata": {},
   "source": [
    "Cálculo de las soluciones a la ecuación generalizada de Lundberg"
   ]
  },
  {
   "cell_type": "code",
   "execution_count": 39,
   "metadata": {},
   "outputs": [
    {
     "data": {
      "text/plain": [
       "[0.0, 1.10000000000000]"
      ]
     },
     "execution_count": 39,
     "metadata": {},
     "output_type": "execute_result"
    }
   ],
   "source": [
    "#etta estrella\n",
    "x=Symbol('x')\n",
    "etta_estrella=solve(1+delta*x-(beta/(beta-x)), x)\n",
    "etta_estrella"
   ]
  },
  {
   "cell_type": "code",
   "execution_count": 40,
   "metadata": {},
   "outputs": [],
   "source": [
    "#Calculo de etta y v\n",
    "x=Symbol('x')\n",
    "etta=solve(1+delta*x-((gamma)/(gamma-(((-a*delta*x)+(rho*(1-(alpha/(alpha-x)))))/(-c))))*(beta/(beta-x)), x)"
   ]
  },
  {
   "cell_type": "code",
   "execution_count": 41,
   "metadata": {},
   "outputs": [
    {
     "data": {
      "text/plain": [
       "[0.0,\n",
       " 0.127027934770605 + 0.e-23*I,\n",
       " 1.62616325166813 + 0.e-23*I,\n",
       " 2.48966595641841 - 0.e-23*I]"
      ]
     },
     "execution_count": 41,
     "metadata": {},
     "output_type": "execute_result"
    }
   ],
   "source": [
    "etta"
   ]
  },
  {
   "cell_type": "code",
   "execution_count": 42,
   "metadata": {},
   "outputs": [
    {
     "data": {
      "text/plain": [
       "[0,\n",
       " 0.170806452347346 + 3.59117394127553e-23*I,\n",
       " 3.34716673907353 + 1.57149928093833e-22*I,\n",
       " 1.2098045863569 - 1.04478262460634e-22*I]"
      ]
     },
     "execution_count": 42,
     "metadata": {},
     "output_type": "execute_result"
    }
   ],
   "source": [
    "v_=[]\n",
    "for i in range(0,np.size(etta)):\n",
    "    v1=((-a*delta*etta[i])+(rho*(1-(alpha/(alpha-etta[i])))))/(-c)\n",
    "    v_.append(v1)\n",
    "v_"
   ]
  },
  {
   "cell_type": "code",
   "execution_count": 43,
   "metadata": {},
   "outputs": [
    {
     "data": {
      "text/plain": [
       "(0.170806452347346, 0.127027934770605)"
      ]
     },
     "execution_count": 43,
     "metadata": {},
     "output_type": "execute_result"
    }
   ],
   "source": [
    "etta_0=abs(etta[1])\n",
    "v_0=((-a*delta*etta_0)+(rho*(1-(alpha/(alpha-etta_0)))))/(-c)\n",
    "v_0,etta_0"
   ]
  },
  {
   "cell_type": "markdown",
   "metadata": {},
   "source": [
    "Se procede a encontrar las cotas superiores para la probabilidad de ruina. "
   ]
  },
  {
   "cell_type": "code",
   "execution_count": 45,
   "metadata": {},
   "outputs": [
    {
     "name": "stdout",
     "output_type": "stream",
     "text": [
      "[20.58, 23.36, 26.53, 30.12, 34.2, 38.83, 44.09, 50.07, 56.85, 64.55, 73.29, 83.22] [17.06, 19.37, 22.0, 24.98, 28.36, 32.2, 36.56, 41.51, 47.14, 53.52, 60.77, 69.0]\n"
     ]
    }
   ],
   "source": [
    "#Cotas Superior\n",
    "bound1=[]\n",
    "bound2=[]\n",
    "for i in lambdaa:\n",
    "    bound1_1=round(exp(etta_0*i)*exp(-v_0*x_0),4)\n",
    "    bound1.append(round(bound1_1*100,4))\n",
    "    bound2_1=round(((gamma-v_0)*exp(etta_0*i)*exp(-v_0*x_0))/(gamma),4)\n",
    "    bound2.append(round(bound2_1*100,4))\n",
    "    \n",
    "print(bound1,bound2)"
   ]
  },
  {
   "cell_type": "code",
   "execution_count": 46,
   "metadata": {},
   "outputs": [
    {
     "data": {
      "text/html": [
       "<i>Table length=12</i>\n",
       "<table id=\"table2385198881592\" class=\"table-striped table-bordered table-condensed\">\n",
       "<thead><tr><th>Lambda</th><th>Up Bound 1 (%)</th><th>Up Bound 2 (%)</th></tr></thead>\n",
       "<thead><tr><th>float64</th><th>float64</th><th>float64</th></tr></thead>\n",
       "<tr><td>1.0</td><td>20.58</td><td>17.06</td></tr>\n",
       "<tr><td>2.0</td><td>23.36</td><td>19.37</td></tr>\n",
       "<tr><td>3.0</td><td>26.53</td><td>22.0</td></tr>\n",
       "<tr><td>4.0</td><td>30.12</td><td>24.98</td></tr>\n",
       "<tr><td>5.0</td><td>34.2</td><td>28.36</td></tr>\n",
       "<tr><td>6.0</td><td>38.83</td><td>32.2</td></tr>\n",
       "<tr><td>7.0</td><td>44.09</td><td>36.56</td></tr>\n",
       "<tr><td>8.0</td><td>50.07</td><td>41.51</td></tr>\n",
       "<tr><td>9.0</td><td>56.85</td><td>47.14</td></tr>\n",
       "<tr><td>10.0</td><td>64.55</td><td>53.52</td></tr>\n",
       "<tr><td>11.0</td><td>73.29</td><td>60.77</td></tr>\n",
       "<tr><td>12.0</td><td>83.22</td><td>69.0</td></tr>\n",
       "</table>"
      ],
      "text/plain": [
       "<Table length=12>\n",
       " Lambda Up Bound 1 (%) Up Bound 2 (%)\n",
       "float64    float64        float64    \n",
       "------- -------------- --------------\n",
       "    1.0          20.58          17.06\n",
       "    2.0          23.36          19.37\n",
       "    3.0          26.53           22.0\n",
       "    4.0          30.12          24.98\n",
       "    5.0           34.2          28.36\n",
       "    6.0          38.83           32.2\n",
       "    7.0          44.09          36.56\n",
       "    8.0          50.07          41.51\n",
       "    9.0          56.85          47.14\n",
       "   10.0          64.55          53.52\n",
       "   11.0          73.29          60.77\n",
       "   12.0          83.22           69.0"
      ]
     },
     "execution_count": 46,
     "metadata": {},
     "output_type": "execute_result"
    }
   ],
   "source": [
    "t = Table([lambdaa, bound1, bound2], names=('Lambda', 'Up Bound 1 (%)', 'Up Bound 2 (%)'))\n",
    "t"
   ]
  },
  {
   "cell_type": "markdown",
   "metadata": {},
   "source": [
    "Gráfica de las cotas de la probabiidad de ruina"
   ]
  },
  {
   "cell_type": "code",
   "execution_count": 47,
   "metadata": {},
   "outputs": [
    {
     "data": {
      "text/plain": [
       "<matplotlib.legend.Legend at 0x22b594d5588>"
      ]
     },
     "execution_count": 47,
     "metadata": {},
     "output_type": "execute_result"
    },
    {
     "data": {
      "image/png": "[encoded data removed]",
      "text/plain": [
       "<Figure size 1080x432 with 1 Axes>"
      ]
     },
     "metadata": {
      "needs_background": "light"
     },
     "output_type": "display_data"
    }
   ],
   "source": [
    "plt.figure(figsize=(15,6))\n",
    "plt.plot(lambdaa,bound1,label='Up Bound 1',color='red')\n",
    "plt.plot(lambdaa,bound2, color='blue', label='Up Bound 2')\n",
    "#plt.plot(lambdaa,PP,color='green',label='Simulated Ruin Probability')\n",
    "plt.xlabel('Intensity')\n",
    "plt.ylabel(' Ruin Probability (%)')\n",
    "plt.xlim(0,np.max(lambdaa))\n",
    "plt.legend([r'$e^{-v_0^+ x}e^{\\eta_0^+ \\lambda}$',r'$\\frac{\\gamma - v_0^+}{\\gamma}e^{-v_0^+ x}e^{\\eta_0^+ \\lambda}$'])\n",
    "#plt.savefig(\"cotas.jpg\", bbox_inches='tight')"
   ]
  },
  {
   "cell_type": "markdown",
   "metadata": {},
   "source": [
    "Bajo la nueva medida se cambian los parámetros de la siguiente manera"
   ]
  },
  {
   "cell_type": "code",
   "execution_count": 48,
   "metadata": {},
   "outputs": [
    {
     "data": {
      "text/html": [
       "<i>Table length=12</i>\n",
       "<table id=\"table2385205366400\" class=\"table-striped table-bordered table-condensed\">\n",
       "<thead><tr><th>Parameters</th><th>Values</th></tr></thead>\n",
       "<thead><tr><th>str7</th><th>object</th></tr></thead>\n",
       "<tr><td>a2</td><td>0.9223</td></tr>\n",
       "<tr><td>c2</td><td>1.5</td></tr>\n",
       "<tr><td>delta2</td><td>2.5</td></tr>\n",
       "<tr><td>rho2</td><td>0.5339</td></tr>\n",
       "<tr><td>gamma2</td><td>0.8292</td></tr>\n",
       "<tr><td>beta2</td><td>1.042</td></tr>\n",
       "<tr><td>alpha2</td><td>1.4215</td></tr>\n",
       "<tr><td>lambda2</td><td>0.9223</td></tr>\n",
       "<tr><td>etta_0</td><td>0.127027934770605</td></tr>\n",
       "<tr><td>v_0</td><td>0.170806452347346</td></tr>\n",
       "<tr><td>m_0</td><td>0.0964</td></tr>\n",
       "<tr><td>phi</td><td>0.8292</td></tr>\n",
       "</table>"
      ],
      "text/plain": [
       "<Table length=12>\n",
       "Parameters       Values     \n",
       "   str7          object     \n",
       "---------- -----------------\n",
       "        a2            0.9223\n",
       "        c2               1.5\n",
       "    delta2               2.5\n",
       "      rho2            0.5339\n",
       "    gamma2            0.8292\n",
       "     beta2             1.042\n",
       "    alpha2            1.4215\n",
       "   lambda2            0.9223\n",
       "    etta_0 0.127027934770605\n",
       "       v_0 0.170806452347346\n",
       "       m_0            0.0964\n",
       "       phi            0.8292"
      ]
     },
     "execution_count": 48,
     "metadata": {},
     "output_type": "execute_result"
    }
   ],
   "source": [
    "a2=round((1+delta*etta_0)*a,4)\n",
    "c2=c\n",
    "delta2=delta\n",
    "rho2=round((alpha*rho)/(alpha-etta_0),4)\n",
    "gamma2=round(gamma-v_0,4)\n",
    "beta2=round((beta-etta_0)/(1+delta*etta_0),4)\n",
    "alpha2=round((alpha-etta_0)/(1+delta*etta_0),4)\n",
    "lambda2=round((1+delta*etta_0)*lambda0,4)\n",
    "m_0=round(etta_0/(etta_0*delta+1),4)\n",
    "phi=round((gamma -v_0)/gamma,4)\n",
    "vector1=['a2','c2','delta2','rho2','gamma2','beta2','alpha2','lambda2','etta_0','v_0','m_0','phi']\n",
    "vector2=[a2,c2,delta2,rho2,gamma2,beta2,alpha2,lambda2,etta_0,v_0,m_0,phi]\n",
    "new_values= Table([vector1, vector2], names=('Parameters', 'Values'))\n",
    "new_values"
   ]
  },
  {
   "cell_type": "markdown",
   "metadata": {},
   "source": [
    "La probabilidad de ruina será detemrinada bajo el cambio de medida como:"
   ]
  },
  {
   "cell_type": "code",
   "execution_count": 49,
   "metadata": {},
   "outputs": [],
   "source": [
    "def simulation3(a,rho,delta,alpha,beta,lambda0,T):\n",
    "    T0=0\n",
    "    Nt=[]\n",
    "    Nt.append(0)\n",
    "    E=(-1/rho)*(np.log(np.random.rand()))\n",
    "    d1=1+((delta*np.log(np.random.rand()))/(lambda0-a))\n",
    "    lambdat=[]\n",
    "    Ti=[]\n",
    "    size=[]\n",
    "    sizeSJ=[]\n",
    "    sizeEJ=[]\n",
    "    if d1>0:\n",
    "        S1=(-np.log(d1))/delta\n",
    "        S2=(-np.log(np.random.rand()))/a\n",
    "        S= min(S1,S2)\n",
    "    else:\n",
    "        S2=(-np.log(np.random.rand()))/a\n",
    "        S=S2\n",
    "    Ti.append(T0+min(S,E))\n",
    "    lambdamenos=a+(lambda0-a)*np.exp(-delta*(Ti[0]-T0))\n",
    "    if S<E:\n",
    "        SJ=(-1/beta)*np.log(np.random.rand())\n",
    "        lambdat.append(lambdamenos+SJ)\n",
    "        sizeSJ.append(SJ)\n",
    "        N=1\n",
    "    else:\n",
    "        EJ=(-1/alpha)*np.log(np.random.rand())\n",
    "        lambdat.append(lambdamenos+EJ)\n",
    "        sizeEJ.append(EJ)\n",
    "        N=0\n",
    "    Nt[0]=N\n",
    "    i=1\n",
    "    Tx=Ti[-1]\n",
    "    while Tx<T:\n",
    "        E=(-1/rho)*(np.log(np.random.rand()))\n",
    "        d1=1+((delta*np.log(np.random.rand()))/lambdat[i-1]-a)\n",
    "        if d1>0:\n",
    "            S1=(-np.log(d1))/delta\n",
    "            S2=(-np.log(np.random.rand()))/a\n",
    "            S= min(S1,S2)\n",
    "        else:\n",
    "            S2=(-np.log(np.random.rand()))/a\n",
    "            S=S2\n",
    "        Tx=Ti[i-1]+min(S,E)\n",
    "        if Tx>T:\n",
    "            break\n",
    "        Ti.append(Tx)\n",
    "        \n",
    "        if S<E:\n",
    "            SJ=(-1/beta)*np.log(np.random.rand())\n",
    "            lambdat.append(lambdamenos+SJ)\n",
    "            sizeSJ.append(SJ)\n",
    "            N=1+N\n",
    "        else:\n",
    "            EJ=(-1/alpha)*np.log(np.random.rand())\n",
    "            lambdat.append(lambdamenos+EJ)\n",
    "            sizeEJ.append(EJ)\n",
    "            N=0+N\n",
    "        Nt.append(N)\n",
    "        i=i+1\n",
    "        if i==1000000:\n",
    "            break\n",
    "    return Ti,Nt,N,lambdat,sizeSJ,sizeEJ"
   ]
  },
  {
   "cell_type": "code",
   "execution_count": 50,
   "metadata": {},
   "outputs": [],
   "source": [
    "def ruina_ok(a,rho,delta,alpha,beta,gamma,lambda0,T,x_0,c,sim):\n",
    "    initial=0\n",
    "    i=0\n",
    "    ruinas=[]\n",
    "    while initial<sim:\n",
    "        Ti,Nt,N,lambdat,sizeSJ,sizeEJ=simulation3(a,rho,delta,alpha,beta,lambda0,T)\n",
    "        Nt_final=[]\n",
    "        z=[]\n",
    "        while i <(len(Nt)):\n",
    "            y=np.random.exponential(scale=1/gamma)\n",
    "            z.append(y)\n",
    "            if i==0:\n",
    "                h=Nt[0]\n",
    "\n",
    "            else:\n",
    "                h=Nt[i]-Nt[i-1]\n",
    "            Nt_final.append(h)    \n",
    "            i=i+1\n",
    "            if i ==10000000:\n",
    "                break\n",
    "        Ti_S = list(map(operator.mul, Ti, Nt_final))\n",
    "        z_S = list(map(operator.mul, z, Nt_final))\n",
    "        X_t=[]\n",
    "        j=0\n",
    "        \n",
    "        while i<len(Ti):\n",
    "            xt=x_0+c*(Ti[j])-np.cumsum(z_S)[j]\n",
    "            X_t.append(xt)\n",
    "            j=j+1\n",
    "            if j==2000000:\n",
    "                break\n",
    "        ruina1=[]\n",
    "        for number in X_t:\n",
    "            if number <0:\n",
    "                ruina1.append(1)\n",
    "                break\n",
    "            else:\n",
    "                ruina1.append(0)\n",
    "        ruinas.append(lambdat[len(ruina1)-1])\n",
    "        initial=initial+1\n",
    "        \n",
    "        \n",
    "    return ruinas"
   ]
  },
  {
   "cell_type": "markdown",
   "metadata": {},
   "source": [
    "Se realizarán 10000 simulaciones para el cálculo del valor esperado condicionado a $X_0=0$"
   ]
  },
  {
   "cell_type": "code",
   "execution_count": 51,
   "metadata": {},
   "outputs": [
    {
     "name": "stderr",
     "output_type": "stream",
     "text": [
      "C:\\Users\\hsrc_\\Anaconda3\\lib\\site-packages\\ipykernel_launcher.py:6: RuntimeWarning: divide by zero encountered in double_scalars\n",
      "  \n"
     ]
    },
    {
     "name": "stdout",
     "output_type": "stream",
     "text": [
      "Runtime of the program is 105.33378958702087\n"
     ]
    }
   ],
   "source": [
    "start=time.time()\n",
    "x_0=0\n",
    "sim=10000\n",
    "ruinas=ruina_ok(a2,rho2,delta2,alpha2,beta2,gamma2,lambda2,T,x_0,c2,sim)\n",
    "end=time.time()\n",
    "print(f\"Runtime of the program is {end - start}\")"
   ]
  },
  {
   "cell_type": "markdown",
   "metadata": {},
   "source": [
    "Cálculo de cada uno de los términos para encontrar la probabilidad de ruina en la nueva medida."
   ]
  },
  {
   "cell_type": "code",
   "execution_count": 52,
   "metadata": {},
   "outputs": [
    {
     "name": "stdout",
     "output_type": "stream",
     "text": [
      "1.19013345300042 1.39279049938020 0.845529518558074\n",
      "Runtime of the program is 0.010520696640014648\n"
     ]
    }
   ],
   "source": [
    "start=time.time()\n",
    "x=x_0\n",
    "term1=(rho2*(alpha2-beta2))/(delta2*(alpha2-beta2)+1)\n",
    "term2=(1/delta2)*(a2+(rho2/(delta2*(alpha2-beta2)+1)))\n",
    "term3=(delta2*beta2-1)/delta2\n",
    "term4=(((a2*delta2)+(rho2/(alpha2+m_0)))/(delta2-(1/(beta2+m_0))))\n",
    "expected1=((alpha2/(alpha2-m_0))**(term1))*((term3/(term3-m_0))**(term2))*exp(m_0*a2)\n",
    "expected2=((alpha2/(alpha2+m_0))**(term1))*((term3/(term3+m_0))**(term2))*term4*exp(-m_0*a2)\n",
    "expected3=((rho2/alpha2)+a2*delta2)/(delta2-(1/beta2))\n",
    "expected5=np.mean(np.exp(np.dot(-m_0,ruinas)))\n",
    "print(expected1,expected2,expected5)\n",
    "end=time.time()\n",
    "print(f\"Runtime of the program is {end - start}\")"
   ]
  },
  {
   "cell_type": "markdown",
   "metadata": {},
   "source": [
    "Aproximación de la probabilidad de ruina bajo la nueva medida"
   ]
  },
  {
   "cell_type": "code",
   "execution_count": 53,
   "metadata": {},
   "outputs": [
    {
     "name": "stdout",
     "output_type": "stream",
     "text": [
      "0.620001704412243 0.620001704412243\n"
     ]
    }
   ],
   "source": [
    "C=((phi*(beta-etta_0))/(beta))*expected1*(((expected2/gamma2)-c2*expected5)/((expected3/gamma2)-c2))\n",
    "prob2=C*exp(-v_0*x)\n",
    "print(C,prob2)"
   ]
  },
  {
   "cell_type": "markdown",
   "metadata": {},
   "source": [
    "Se realiza la simulación de la probabilidad de ruina en la nueva medida para distintos valores de la reserva inicial"
   ]
  },
  {
   "cell_type": "code",
   "execution_count": 54,
   "metadata": {},
   "outputs": [
    {
     "name": "stdout",
     "output_type": "stream",
     "text": [
      "4 0.313091793557924\n",
      "6 0.222490301747200\n",
      "8 0.158106776958374\n",
      "10 0.112354348588947\n",
      "12 0.0798416101428098\n",
      "14 0.0567373029193420\n",
      "16 0.0403188454842436\n",
      "18 0.0286515082236688\n",
      "20 0.0203604273294920\n",
      "22 0.0144685926410349\n",
      "24 0.0102817180417909\n",
      "26 0.00730642768883194\n",
      "28 0.00519211724685963\n",
      "30 0.00368963913053479\n",
      "Runtime of the program is 0.010002851486206055\n"
     ]
    }
   ],
   "source": [
    "start=time.time()\n",
    "for x in range(4,32,2):\n",
    "    C=((phi*(beta-etta_0))/(beta))*expected1*(((expected2/gamma2)-c2*expected5)/((expected3/gamma2)-c2))\n",
    "    prob2=C*exp(-v_0*x)\n",
    "    print(x,prob2)\n",
    "end=time.time()\n",
    "print(f\"Runtime of the program is {end - start}\")"
   ]
  },
  {
   "cell_type": "code",
   "execution_count": null,
   "metadata": {},
   "outputs": [],
   "source": []
  }
 ],
 "metadata": {
  "kernelspec": {
   "display_name": "Python 3",
   "language": "python",
   "name": "python3"
  },
  "language_info": {
   "codemirror_mode": {
    "name": "ipython",
    "version": 3
   },
   "file_extension": ".py",
   "mimetype": "text/x-python",
   "name": "python",
   "nbconvert_exporter": "python",
   "pygments_lexer": "ipython3",
   "version": "3.7.3"
  }
 },
 "nbformat": 4,
 "nbformat_minor": 2
}
