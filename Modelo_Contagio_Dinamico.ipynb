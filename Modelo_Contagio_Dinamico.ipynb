{
 "cells": [
  {
   "cell_type": "code",
   "execution_count": null,
   "metadata": {
    "colab": {},
    "colab_type": "code",
    "executionInfo": {
     "elapsed": 503,
     "status": "ok",
     "timestamp": 1599950464543,
     "user": {
      "displayName": "Juan David Jaramillo Urrutia",
      "photoUrl": "https://lh3.googleusercontent.com/a-/AOh14Gg_bJgqyot_MW8Acm8-sIrDFpcPR6hjlW02wjJSRQ=s64",
      "userId": "12089805435579480557"
     },
     "user_tz": 300
    },
    "id": "3FBzx0-PbTJH"
   },
   "outputs": [],
   "source": [
    "import matplotlib.pyplot as plt\n",
    "from scipy.stats import describe\n",
    "import numpy as np\n",
    "import pandas as pd\n",
    "import operator\n",
    "from astropy.table import QTable, Table, Column\n",
    "from astropy import units as u"
   ]
  },
  {
   "cell_type": "markdown",
   "metadata": {},
   "source": [
    "Se realizará la simulación propuesta por Dassios y Zhao para calcular los tiempos de saltos del modelo."
   ]
  },
  {
   "cell_type": "code",
   "execution_count": null,
   "metadata": {
    "colab": {},
    "colab_type": "code",
    "executionInfo": {
     "elapsed": 457,
     "status": "ok",
     "timestamp": 1599950649694,
     "user": {
      "displayName": "Juan David Jaramillo Urrutia",
      "photoUrl": "https://lh3.googleusercontent.com/a-/AOh14Gg_bJgqyot_MW8Acm8-sIrDFpcPR6hjlW02wjJSRQ=s64",
      "userId": "12089805435579480557"
     },
     "user_tz": 300
    },
    "id": "XGlHIvJgeN_e"
   },
   "outputs": [],
   "source": [
    "def simulation2(a,rho,delta,alpha,beta,lambda0,T):\n",
    "    T0=0\n",
    "    Nt=[]\n",
    "    Nt.append(0)\n",
    "    E=(-1/rho)*(np.log(np.random.uniform(0,1)))\n",
    "    d1=1+((delta*np.log(np.random.uniform(0,1)))/lambda0-a)\n",
    "    lambdat=[]\n",
    "    Ti=[]\n",
    "    size=[]\n",
    "    if d1>0:\n",
    "        S1=(-np.log(d1))/delta\n",
    "        S2=(-np.log(np.random.uniform(0,1)))/a\n",
    "        S= min(S1,S2)\n",
    "    else:\n",
    "        S2=(-np.log(np.random.uniform(0,1)))/a\n",
    "        S=S2\n",
    "    Ti.append(T0+min(S,E))\n",
    "    lambdamenos=a+(lambda0-a)*np.exp(-delta*(Ti[0]-T0))\n",
    "    if S<E:\n",
    "        SJ=np.random.exponential(scale=1/beta)\n",
    "        lambdat.append(lambdamenos+SJ)\n",
    "        size.append(SJ)\n",
    "        N=1\n",
    "    else:\n",
    "        EJ=np.random.exponential(scale=1/alpha)\n",
    "        lambdat.append(lambdamenos+EJ)\n",
    "        size.append(EJ)\n",
    "        N=0\n",
    "    Nt[0]=N\n",
    "    i=1\n",
    "    Tx=Ti[-1]\n",
    "    while Tx<T:\n",
    "        E=(-1/rho)*(np.log(np.random.uniform(0,1)))\n",
    "        d1=1+((delta*np.log(np.random.uniform(0,1)))/lambdat[i-1]-a)\n",
    "        if d1>0:\n",
    "            S1=(-np.log(d1))/delta\n",
    "            S2=(-np.log(np.random.uniform(0,1)))/a\n",
    "            S= min(S1,S2)\n",
    "        else:\n",
    "            S2=(-np.log(np.random.uniform(0,1)))/a\n",
    "            S=S2\n",
    "        Tx=Ti[i-1]+min(S,E)\n",
    "        if Tx>T:\n",
    "            break\n",
    "        Ti.append(Tx)\n",
    "        lambdamenos=a+(lambdat[i-1]-a)*np.exp(-delta*(Ti[i]-Ti[i-1]))\n",
    "        if S<E:\n",
    "            SJ=np.random.exponential(scale=1/beta)\n",
    "            lambdat.append(lambdamenos+SJ)\n",
    "            size.append(SJ)\n",
    "            N=1+N\n",
    "        else:\n",
    "            EJ=np.random.exponential(scale=1/alpha)\n",
    "            lambdat.append(lambdamenos+EJ)\n",
    "            size.append(EJ)\n",
    "            N=0+N\n",
    "        Nt.append(N)\n",
    "        i=i+1\n",
    "        if i==1000000:\n",
    "            break\n",
    "    return Ti,Nt,N,lambdat,size"
   ]
  },
  {
   "cell_type": "markdown",
   "metadata": {},
   "source": [
    "$\\quad$"
   ]
  },
  {
   "cell_type": "markdown",
   "metadata": {},
   "source": [
    "Los parámetros a utilizar durante la simulación serán:\n",
    "$$(a,\\rho,\\delta,\\alpha,\\beta,\\lambda_0,T)=(0.5,1.0,1.5,0.5,1.0,1.5,10) $$"
   ]
  },
  {
   "cell_type": "markdown",
   "metadata": {},
   "source": [
    "$\\quad$"
   ]
  },
  {
   "cell_type": "code",
   "execution_count": null,
   "metadata": {},
   "outputs": [],
   "source": [
    "a=0.5;rho=1.0;delta=1.5;alpha=0.5;beta=1.0;lambda0=1.5;T=10"
   ]
  },
  {
   "cell_type": "code",
   "execution_count": null,
   "metadata": {},
   "outputs": [],
   "source": [
    "i=0\n",
    "sim=100\n",
    "resultados=[]\n",
    "while i <=sim:\n",
    "    \n",
    "    Ti,Nt,N,lambdat,size=simulation2(a,rho,delta,alpha,beta,lambda0,T)\n",
    "    resultados.append(np.max(Nt))\n",
    "    i=1+i\n"
   ]
  },
  {
   "cell_type": "code",
   "execution_count": null,
   "metadata": {},
   "outputs": [],
   "source": [
    "#Conteo del número de saltos internos\n",
    "i=0\n",
    "Nt_final=[]\n",
    "while i <(len(Nt)):\n",
    "    \n",
    "    if i==0:\n",
    "        intr=Nt[0]\n",
    "        \n",
    "    else:\n",
    "        intr=Nt[i]-Nt[i-1]\n",
    "    Nt_final.append(intr)    \n",
    "    i=i+1\n",
    "    if i ==10000000:\n",
    "        break"
   ]
  },
  {
   "cell_type": "code",
   "execution_count": null,
   "metadata": {},
   "outputs": [],
   "source": [
    "#Tiempos de saltos internos\n",
    "Ti_S = list(map(operator.mul, Ti, Nt_final))"
   ]
  },
  {
   "cell_type": "code",
   "execution_count": null,
   "metadata": {},
   "outputs": [],
   "source": [
    "plt.figure(figsize=(15,5))\n",
    "plt.scatter(Ti,Nt,label='Jumps self and externally',color='red')\n",
    "plt.step(Ti,Nt,where='post')\n",
    "#plt.title('Ti vs Nt')\n",
    "plt.xlabel('Time')\n",
    "plt.ylabel('Point Process Nt')\n",
    "plt.legend()\n",
    "#plt.savefig(\"Proceso_Conteo.jpg\", bbox_inches='tight')"
   ]
  },
  {
   "cell_type": "code",
   "execution_count": null,
   "metadata": {},
   "outputs": [],
   "source": [
    "plt.figure(figsize=(15,5))\n",
    "plt.xlim(0,T)\n",
    "plt.scatter(Ti,lambdat,label='Jump',color='red')\n",
    "plt.xlabel('Time')\n",
    "plt.ylabel('Intensity Process')\n",
    "plt.legend()\n",
    "#plt.savefig(\"Proceso_Intensidad.jpg\", bbox_inches='tight')"
   ]
  },
  {
   "cell_type": "markdown",
   "metadata": {},
   "source": [
    "$$\\quad$$"
   ]
  },
  {
   "cell_type": "markdown",
   "metadata": {},
   "source": [
    "Los parámetros a utilizar durante la simulación serán:\n",
    "$$(a,\\rho,\\delta,\\alpha,\\beta,\\lambda_0,T)=(0.5,1.0,1.5,0.5,1.0,1.5,50) $$"
   ]
  },
  {
   "cell_type": "code",
   "execution_count": null,
   "metadata": {},
   "outputs": [],
   "source": [
    "a=0.5;rho=1.0;delta=1.5;alpha=0.5;beta=1.0;lambda0=1.5;T=50"
   ]
  },
  {
   "cell_type": "code",
   "execution_count": null,
   "metadata": {},
   "outputs": [],
   "source": [
    "Ti,Nt,N,lambdat,size=simulation2(a,rho,delta,alpha,beta,lambda0,T)"
   ]
  },
  {
   "cell_type": "code",
   "execution_count": null,
   "metadata": {},
   "outputs": [],
   "source": [
    "#Conteo del número de saltos internos\n",
    "i=0\n",
    "Nt_final=[]\n",
    "while i <(len(Nt)):\n",
    "    \n",
    "    if i==0:\n",
    "        intr=Nt[0]\n",
    "        \n",
    "    else:\n",
    "        intr=Nt[i]-Nt[i-1]\n",
    "    Nt_final.append(intr)    \n",
    "    i=i+1\n",
    "    if i ==10000000:\n",
    "        break"
   ]
  },
  {
   "cell_type": "code",
   "execution_count": null,
   "metadata": {},
   "outputs": [],
   "source": [
    "#Tiempos de saltos internos\n",
    "Ti_S = list(map(operator.mul, Ti, Nt_final))"
   ]
  },
  {
   "cell_type": "markdown",
   "metadata": {},
   "source": [
    "                                                     GRÁFICAS"
   ]
  },
  {
   "cell_type": "markdown",
   "metadata": {},
   "source": [
    "La gráfica del proceso puntual respecto a el tiempo nos permitirá conocer los tiempos en los cuales ocurrren saltos internos y en cuales se mantiene constante teniendo saltos externos en algún instante $T_i$"
   ]
  },
  {
   "cell_type": "code",
   "execution_count": null,
   "metadata": {
    "colab": {
     "base_uri": "https://localhost:8080/",
     "height": 283
    },
    "colab_type": "code",
    "executionInfo": {
     "elapsed": 549,
     "status": "ok",
     "timestamp": 1599950650545,
     "user": {
      "displayName": "Juan David Jaramillo Urrutia",
      "photoUrl": "https://lh3.googleusercontent.com/a-/AOh14Gg_bJgqyot_MW8Acm8-sIrDFpcPR6hjlW02wjJSRQ=s64",
      "userId": "12089805435579480557"
     },
     "user_tz": 300
    },
    "id": "Npi6XAYgdGXW",
    "outputId": "bd0a65f0-f25a-4560-84e9-104eba63387b"
   },
   "outputs": [],
   "source": [
    "plt.figure(figsize=(15,5))\n",
    "plt.scatter(Ti,Nt,label='Jumps self and externally',color='red')\n",
    "plt.xlim(0,T)\n",
    "plt.ylim(0,np.max(Nt)+1)\n",
    "plt.step(Ti,Nt,where='post')\n",
    "#plt.title('Ti vs Nt')\n",
    "plt.xlabel('Time')\n",
    "plt.ylabel('Point Process Nt')\n",
    "plt.legend()\n",
    "#plt.savefig(\"Proceso_Conteo2.jpg\", bbox_inches='tight')"
   ]
  },
  {
   "cell_type": "markdown",
   "metadata": {},
   "source": [
    "Siguiendo la simulación para el proceso de intensidad $\\lambda_t$ podemos obtener los tiempos en los cuales ocurren saltos junto con su respectiva intesidad para ese instante de tiempo  "
   ]
  },
  {
   "cell_type": "code",
   "execution_count": null,
   "metadata": {
    "colab": {
     "base_uri": "https://localhost:8080/",
     "height": 283
    },
    "colab_type": "code",
    "executionInfo": {
     "elapsed": 574,
     "status": "ok",
     "timestamp": 1599950651113,
     "user": {
      "displayName": "Juan David Jaramillo Urrutia",
      "photoUrl": "https://lh3.googleusercontent.com/a-/AOh14Gg_bJgqyot_MW8Acm8-sIrDFpcPR6hjlW02wjJSRQ=s64",
      "userId": "12089805435579480557"
     },
     "user_tz": 300
    },
    "id": "hDYN7ojjd-sG",
    "outputId": "26748e65-c01c-4c5d-986c-28a206d1553b",
    "scrolled": true
   },
   "outputs": [],
   "source": [
    "plt.figure(figsize=(15,5))\n",
    "plt.xlim(0,T)\n",
    "plt.scatter(Ti,lambdat,label='Jump',color='red')\n",
    "plt.xlabel('Time')\n",
    "plt.ylabel('Intensity Process')\n",
    "plt.legend()\n",
    "#plt.savefig(\"Proceso_Intensidad2.jpg\", bbox_inches='tight')"
   ]
  },
  {
   "cell_type": "markdown",
   "metadata": {},
   "source": [
    "$\\quad$"
   ]
  },
  {
   "cell_type": "markdown",
   "metadata": {},
   "source": [
    "Dado que la simulación únicamente nos da la intensidad en los tiempos de salto. Se va a definir la intensidad del proceso para un tiempo $t$ cualquiera, siguiendo la ecuación del modelo de contagio dinámico.\n",
    "\n",
    "$$\\lambda (t)= a + (\\lambda_{0} -a)e^{-\\delta t} + \\sum_{i\\geq 1} Y_{i} e^{-\\delta (t - T_{i}^{(1)})} \\mathbb{I} \\{ {T_{i}^{(1)}\\leq t}\\}\\\\\n",
    "        + \\sum_{k\\geq 1} Y_{k}^{(2)} e^{-\\delta (t - T_{k}^{(2)})} \\mathbb{I} \\{ {T_{k}^{(2)}\\leq t}\\}$$"
   ]
  },
  {
   "cell_type": "code",
   "execution_count": null,
   "metadata": {},
   "outputs": [],
   "source": [
    "new_Ti = np.round(Ti, 5)\n",
    "new_Ti\n",
    "tiempos = np.round(np.linspace(0,50,5000000),5)\n",
    "\n",
    "new_lambda = np.zeros(len(tiempos))\n",
    "\n",
    "ix = np.isin(tiempos,new_Ti)\n",
    "\n",
    "new_lambda[ix] = lambdat\n",
    "\n",
    "j=0\n",
    "for i in range(len(tiempos)):\n",
    "    if (j == 0):\n",
    "        new_lambda[i] = a+(lambda0-a)*np.exp(-delta*tiempos[i])\n",
    "        if (new_lambda[i] != 0):\n",
    "            j += 1\n",
    "    else:\n",
    "        if (new_lambda[i] == 0):\n",
    "            new_lambda[i] = a+(lambda0-a)*np.exp(-delta*tiempos[i]) + np.sum(size[:j-1]*np.exp(-delta*(tiempos[i] - new_Ti[:j-1])))\n",
    "        else:\n",
    "            j += 1"
   ]
  },
  {
   "cell_type": "markdown",
   "metadata": {},
   "source": [
    "$\\quad$"
   ]
  },
  {
   "cell_type": "markdown",
   "metadata": {},
   "source": [
    "La gráfica siguiente muestra el decaimiento exponencial entre los tiempos de salto, además, en el instante en el que ocurre un salto se grafica su tamaño respectivo. Luego, decaerá exponencialmente con un nuevo parámetro debido a la memoria del proceso. "
   ]
  },
  {
   "cell_type": "markdown",
   "metadata": {},
   "source": [
    "$\\quad$"
   ]
  },
  {
   "cell_type": "code",
   "execution_count": null,
   "metadata": {},
   "outputs": [],
   "source": [
    "plt.figure(figsize=(15,5))\n",
    "plt.plot(tiempos, new_lambda,color='black',label='Intensity Process')\n",
    "plt.scatter(new_Ti, lambdat,marker='D',color='red',label='Jump')\n",
    "plt.xlim(0,T)\n",
    "plt.legend(('Intensity Process','Jumps Size'), loc='upper left', shadow=True)\n",
    "plt.xlabel('Time')\n",
    "plt.ylabel('Intensity Process')\n",
    "#plt.savefig(\"Proceso_Intensidad_2.jpg\", bbox_inches='tight')"
   ]
  },
  {
   "cell_type": "code",
   "execution_count": null,
   "metadata": {},
   "outputs": [],
   "source": [
    "fig, axs = plt.subplots(3, sharex=True)\n",
    "#fig.suptitle('Sharing both axes')\n",
    "fig.set_size_inches(15,15)\n",
    "axs[0].step(Ti,Nt,where='post')\n",
    "axs[0].set_ylabel('Point Process Nt')\n",
    "axs[1].scatter(Ti,lambdat,label='Jump',color='red')\n",
    "axs[1].set_ylabel('Intensity Process')\n",
    "axs[2].plot(tiempos, new_lambda,color='black',label='Intensity Process')\n",
    "axs[2].set_ylabel('Intensity Process')\n",
    "plt.xlabel('Time')\n",
    "#plt.savefig(\"simulacion2.jpg\", bbox_inches='tight')"
   ]
  },
  {
   "cell_type": "markdown",
   "metadata": {},
   "source": [
    "$\\quad$"
   ]
  },
  {
   "cell_type": "markdown",
   "metadata": {},
   "source": [
    "Para conocer la intensidad del proceso en cualquier instante de tiempo, bastará con cambiar el valor de tiempos en el siguiente código donde se le preguntará al usuario el tiempo para el cual quiere conocer su intensidad"
   ]
  },
  {
   "cell_type": "code",
   "execution_count": null,
   "metadata": {},
   "outputs": [],
   "source": [
    "z=float(input('Time:'))\n",
    "print('Intensity',new_lambda[tiempos==z])"
   ]
  },
  {
   "cell_type": "markdown",
   "metadata": {},
   "source": [
    "Generando del proceso de contagio dinámico para varios caminos siguiendo la simulación propuesta por Dassios y Zhao"
   ]
  },
  {
   "cell_type": "code",
   "execution_count": null,
   "metadata": {},
   "outputs": [],
   "source": [
    "def DCP_generator(a,rho,delta,alpha,beta,lambda0,T,N_paths,N_jumps_max):\n",
    "    N_T=np.zeros(N_paths)\n",
    "    for j_path in range (0,N_paths):\n",
    "        T_jump=np.zeros(N_jumps_max+1)\n",
    "        T_jump[0]=0\n",
    "        T_self=np.zeros(N_jumps_max+1)\n",
    "        T_self[0]=0\n",
    "        lambda_p=np.zeros(N_jumps_max+1)\n",
    "        lambda_p[0]=lambda0\n",
    "        lambda_n=np.zeros(N_jumps_max+1)\n",
    "        lambda_n[0]=lambda0\n",
    "        for i_jump in range(0,N_jumps_max):\n",
    "            E=(-1/rho)*np.log(np.random.rand())\n",
    "            d=1+((delta*np.log(np.random.rand()))/lambda_p[i_jump])\n",
    "            if (d>0):\n",
    "                S=(-1/delta)*np.log(d)\n",
    "            elif (d<0):\n",
    "                S=np.inf\n",
    "            tau=min(S,E)\n",
    "            T_jump[i_jump+1]=T_jump[i_jump]+tau\n",
    "            if (tau==S):\n",
    "                Y_size=(-1/beta)*np.log(np.random.rand())\n",
    "                T_self[i_jump+1]=1\n",
    "            elif (tau==E):\n",
    "                Y_size=(-1/alpha)*np.log(np.random.rand())\n",
    "                T_self[i_jump+1]=0\n",
    "            lambda_n[i_jump+1]=lambda_p[i_jump]*np.exp(-delta*tau)\n",
    "            lambda_p[i_jump+1]=lambda_n[i_jump+1]+Y_size\n",
    "            if T_jump[i_jump+1]>T:\n",
    "                N_T[j_path]=np.sum(T_self[0:i_jump])\n",
    "                break\n",
    "    return N_T,T_jump,T_self,lambda_p"
   ]
  },
  {
   "cell_type": "markdown",
   "metadata": {},
   "source": [
    "Los parámetros a utilizar durante la simulación serán:\n",
    "$$(a,\\rho,\\delta,\\alpha,\\beta,\\lambda_0,T)=(0.0,2.0,0.5,2.5,4.0,0.5,100) $$"
   ]
  },
  {
   "cell_type": "code",
   "execution_count": null,
   "metadata": {},
   "outputs": [],
   "source": [
    "a=0;delta=0.5;rho=2.0;alpha=2.5;lambda0=0.5;beta=4;N_jumps_max=100000;T=100;N_paths=10000"
   ]
  },
  {
   "cell_type": "code",
   "execution_count": null,
   "metadata": {},
   "outputs": [],
   "source": [
    "N_T,T_jump,T_self,lambda_p=DCP_generator(a,rho,delta,alpha,beta,lambda0,T,N_paths,N_jumps_max)"
   ]
  },
  {
   "cell_type": "code",
   "execution_count": null,
   "metadata": {},
   "outputs": [],
   "source": [
    "eta = delta-1/beta;\n",
    "Mean_true = lambda0*(1-np.exp(-eta*T))/eta + rho/eta*(T-(1-np.exp(-eta*T))/eta)*1/alpha;\n",
    "Mean_simulated = np.mean(N_T);\n",
    "Mean_difference = Mean_simulated-Mean_true;\n",
    "Error_p = (Mean_simulated-Mean_true)/Mean_true; \n",
    "SE_simulated = np.std(N_T)/np.sqrt(N_paths);\n",
    "column1=['eta','Mean_true','Mean_simulated','Mean_difference','Error_p','SE_simulated']\n",
    "column2=[eta,Mean_true,Mean_simulated,Mean_difference,Error_p,SE_simulated]\n",
    "summary= Table([column1, column2], names=('Summary', 'Results'))\n",
    "summary"
   ]
  },
  {
   "cell_type": "code",
   "execution_count": null,
   "metadata": {},
   "outputs": [],
   "source": [
    "plt.figure(figsize=(15,5))\n",
    "plt.xlim(0,T)\n",
    "plt.scatter(T_jump,lambda_p,label='Jump',color='red')\n",
    "plt.xlabel('Time')\n",
    "plt.ylabel('Intensity Process')\n",
    "plt.legend()"
   ]
  },
  {
   "cell_type": "code",
   "execution_count": null,
   "metadata": {},
   "outputs": [],
   "source": []
  },
  {
   "cell_type": "markdown",
   "metadata": {},
   "source": [
    "#                                                     PROBLEMA DE RUINA"
   ]
  },
  {
   "cell_type": "markdown",
   "metadata": {},
   "source": [
    "\n",
    "$$X_{t}= x_0 +ct - \\sum_{i=1} ^ {N_t} Zi$$\n",
    "             \n",
    "Donde $Z_i$ se distribuye exponencial."
   ]
  },
  {
   "cell_type": "markdown",
   "metadata": {},
   "source": [
    "Probar la condición de ganancia neta $$c>\\frac{(\\mu_{1_H} \\rho + a \\delta)}{(\\delta-\\mu_{1G})}\\mu_{1_Z}$$\n",
    "donde $x_0$ es constante y $c$ es constante"
   ]
  },
  {
   "cell_type": "markdown",
   "metadata": {},
   "source": [
    "Se realizará una modificación al algoritmo de simulación de tal manera que se puedan conocer la diferencia entre la ocurrencia de un salto interno y uno externo. Esto nos servirá para calcular la media de cada uno de ellos y poder realizar el cálculo de la condición de ganancia neta."
   ]
  },
  {
   "cell_type": "code",
   "execution_count": null,
   "metadata": {},
   "outputs": [],
   "source": [
    "def simulation3(a,rho,delta,alpha,beta,lambda0,T):\n",
    "    T0=0\n",
    "    Nt=[]\n",
    "    Nt.append(0)\n",
    "    E=(-1/rho)*(np.log(np.random.uniform(0,1)))\n",
    "    d1=1+((delta*np.log(np.random.uniform(0,1)))/lambda0-a)\n",
    "    lambdat=[]\n",
    "    Ti=[]\n",
    "    size=[]\n",
    "    sizeSJ=[]\n",
    "    sizeEJ=[]\n",
    "    if d1>0:\n",
    "        S1=(-np.log(d1))/delta\n",
    "        S2=(-np.log(np.random.uniform(0,1)))/a\n",
    "        S= min(S1,S2)\n",
    "    else:\n",
    "        S2=(-np.log(np.random.uniform(0,1)))/a\n",
    "        S=S2\n",
    "    Ti.append(T0+min(S,E))\n",
    "    lambdamenos=a+(lambda0-a)*np.exp(-delta*(Ti[0]-T0))\n",
    "    if S<E:\n",
    "        SJ=np.random.exponential(scale=1/beta)\n",
    "        lambdat.append(lambdamenos+SJ)\n",
    "        sizeSJ.append(SJ)\n",
    "        N=1\n",
    "    else:\n",
    "        EJ=np.random.exponential(scale=1/alpha)\n",
    "        lambdat.append(lambdamenos+EJ)\n",
    "        sizeEJ.append(EJ)\n",
    "        N=0\n",
    "    Nt[0]=N\n",
    "    i=1\n",
    "    Tx=Ti[-1]\n",
    "    while Tx<T:\n",
    "        E=(-1/rho)*(np.log(np.random.uniform(0,1)))\n",
    "        d1=1+((delta*np.log(np.random.uniform(0,1)))/lambdat[i-1]-a)\n",
    "        if d1>0:\n",
    "            S1=(-np.log(d1))/delta\n",
    "            S2=(-np.log(np.random.uniform(0,1)))/a\n",
    "            S= min(S1,S2)\n",
    "        else:\n",
    "            S2=(-np.log(np.random.uniform(0,1)))/a\n",
    "            S=S2\n",
    "        Tx=Ti[i-1]+min(S,E)\n",
    "        if Tx>T:\n",
    "            break\n",
    "        Ti.append(Tx)\n",
    "        \n",
    "        if S<E:\n",
    "            SJ=np.random.exponential(scale=1/beta)\n",
    "            lambdat.append(lambdamenos+SJ)\n",
    "            sizeSJ.append(SJ)\n",
    "            N=1+N\n",
    "        else:\n",
    "            EJ=np.random.exponential(scale=1/alpha)\n",
    "            lambdat.append(lambdamenos+EJ)\n",
    "            sizeEJ.append(EJ)\n",
    "            N=0+N\n",
    "        Nt.append(N)\n",
    "        i=i+1\n",
    "        if i==1000000:\n",
    "            break\n",
    "    return Ti,Nt,N,lambdat,sizeSJ,sizeEJ"
   ]
  },
  {
   "cell_type": "markdown",
   "metadata": {},
   "source": [
    "Se realizará la simulación con los parámetros $$(a,\\rho,\\delta,\\alpha,\\beta,\\gamma,\\lambda_0,c,X_0,T)=(0.7,0.5,2.0,2.0,1.5,1.0,0.7,1.5,10,50) $$"
   ]
  },
  {
   "cell_type": "code",
   "execution_count": null,
   "metadata": {},
   "outputs": [],
   "source": [
    "a=0.7\n",
    "rho=0.5\n",
    "delta=2.0\n",
    "alpha=2.0\n",
    "beta=1.5\n",
    "gamma=1.0\n",
    "lambda0=0.7\n",
    "c=1.5\n",
    "x_0=10\n",
    "T=50"
   ]
  },
  {
   "cell_type": "code",
   "execution_count": null,
   "metadata": {},
   "outputs": [],
   "source": [
    "Ti,Nt,N,lambdat,sizeSJ,sizeEJ=simulation3(a,rho,delta,alpha,beta,lambda0,T)"
   ]
  },
  {
   "cell_type": "markdown",
   "metadata": {},
   "source": [
    "$\\quad$"
   ]
  },
  {
   "cell_type": "markdown",
   "metadata": {},
   "source": [
    "Cálculo de las esperanzas de los saltos internos y externos para determinar la condición de ganancia neta."
   ]
  },
  {
   "cell_type": "code",
   "execution_count": null,
   "metadata": {},
   "outputs": [],
   "source": [
    "mu1G=describe(sizeSJ).mean\n",
    "mu1H=describe(sizeEJ).mean\n",
    "print((mu1G,mu1H))\n",
    "print(np.max(Nt))"
   ]
  },
  {
   "cell_type": "markdown",
   "metadata": {},
   "source": [
    "$\\quad$"
   ]
  },
  {
   "cell_type": "markdown",
   "metadata": {},
   "source": [
    "$\\quad$"
   ]
  },
  {
   "cell_type": "markdown",
   "metadata": {},
   "source": [
    "La gráfica del número de saltos internos para la nueva simulación incluirá el valor esperado del proceso puntual dada la condición estacionaria."
   ]
  },
  {
   "cell_type": "markdown",
   "metadata": {},
   "source": [
    "$\\quad$"
   ]
  },
  {
   "cell_type": "code",
   "execution_count": null,
   "metadata": {},
   "outputs": [],
   "source": [
    "E_Nt=(mu1H * rho + a * delta)*T/(delta- mu1G)\n",
    "E_Nt1=[]\n",
    "i=0\n",
    "while i<len(Ti):\n",
    "    \n",
    "    E_Nt2=(mu1H * rho + a * delta)*Ti[i]/(delta- mu1G)\n",
    "    E_Nt1.append(E_Nt2)\n",
    "    i=i+1\n",
    "    if i==10000000:\n",
    "        break\n",
    "    \n",
    "\n",
    "    \n",
    "plt.figure(figsize=(15,6))\n",
    "plt.plot(Ti,E_Nt1,linestyle='--',label='Expect Value Nt')\n",
    "plt.step(Ti,Nt,where='post', label='Simulated Nt')\n",
    "plt.title('Ti vs Nt')\n",
    "plt.xlim(0,T)\n",
    "plt.ylim(0,np.max(E_Nt1))\n",
    "plt.xlabel('Time')\n",
    "plt.ylabel('Point Process Nt')\n",
    "plt.legend()\n",
    "print(np.max(Nt),E_Nt)"
   ]
  },
  {
   "cell_type": "markdown",
   "metadata": {},
   "source": [
    "$\\quad$"
   ]
  },
  {
   "cell_type": "markdown",
   "metadata": {},
   "source": [
    "Se realiza la simulación del tamaño de las reclamaciones que siguen distribución exponencial. Únicamente se tienen en cuenta los saltos internos para su cálculo."
   ]
  },
  {
   "cell_type": "markdown",
   "metadata": {},
   "source": [
    "$\\quad$"
   ]
  },
  {
   "cell_type": "code",
   "execution_count": null,
   "metadata": {},
   "outputs": [],
   "source": [
    "z=[]\n",
    "i=0\n",
    "while i<len(Nt):\n",
    "    y=np.random.exponential(scale=1/gamma)\n",
    "    z.append(y)\n",
    "    i=i+1\n",
    "    if i==200000:\n",
    "        break\n",
    "mu1G=describe(sizeSJ).mean\n",
    "mu1H=describe(sizeEJ).mean\n",
    "mu1Z=describe(z).mean"
   ]
  },
  {
   "cell_type": "markdown",
   "metadata": {},
   "source": [
    "$\\quad$"
   ]
  },
  {
   "cell_type": "markdown",
   "metadata": {},
   "source": [
    "Se comprueba que se cumpla la condición de ganancia neta para la prima $c$ dada en los parámetros iniciales"
   ]
  },
  {
   "cell_type": "markdown",
   "metadata": {},
   "source": [
    "$\\quad$"
   ]
  },
  {
   "cell_type": "code",
   "execution_count": null,
   "metadata": {},
   "outputs": [],
   "source": [
    "net=((mu1H* rho + a * delta)*mu1Z)/(delta-mu1G)\n",
    "if c>net:\n",
    "    print('Satisfy the Net Profit Condition')\n",
    "else:\n",
    "    print('Does not satisfy the Net Profit Condition')\n",
    "\n"
   ]
  },
  {
   "cell_type": "code",
   "execution_count": null,
   "metadata": {},
   "outputs": [],
   "source": [
    "#Tamaño de la reclamación y número de reclamaciones\n",
    "print(np.size(z),z)"
   ]
  },
  {
   "cell_type": "code",
   "execution_count": null,
   "metadata": {},
   "outputs": [],
   "source": [
    "#Conteo del número de saltos internos\n",
    "i=0\n",
    "Nt_final=[]\n",
    "while i <(len(Nt)):\n",
    "    \n",
    "    if i==0:\n",
    "        h=Nt[0]\n",
    "        \n",
    "    else:\n",
    "        h=Nt[i]-Nt[i-1]\n",
    "    Nt_final.append(h)    \n",
    "    i=i+1\n",
    "    if i ==10000000:\n",
    "        break"
   ]
  },
  {
   "cell_type": "code",
   "execution_count": null,
   "metadata": {},
   "outputs": [],
   "source": [
    "#Tiempos de saltos internos\n",
    "Ti_S = list(map(operator.mul, Ti, Nt_final))"
   ]
  },
  {
   "cell_type": "code",
   "execution_count": null,
   "metadata": {
    "scrolled": false
   },
   "outputs": [],
   "source": [
    "#Tamaño de los saltos internos\n",
    "z_S = list(map(operator.mul, z, Nt_final))"
   ]
  },
  {
   "cell_type": "code",
   "execution_count": null,
   "metadata": {},
   "outputs": [],
   "source": [
    "X_t=[]\n",
    "i=0\n",
    "while i<len(Ti):\n",
    "    xt=x_0+c*(Ti[i])-np.cumsum(z_S)[i]\n",
    "    X_t.append(xt)\n",
    "    i=i+1\n",
    "    if i==2000000:\n",
    "        break"
   ]
  },
  {
   "cell_type": "markdown",
   "metadata": {},
   "source": [
    "$\\quad$"
   ]
  },
  {
   "cell_type": "markdown",
   "metadata": {},
   "source": [
    "Dada la prima $c$, se procede a calcular el superávit de la compañía para la ventana de tiempo $t$.\n",
    "\n"
   ]
  },
  {
   "cell_type": "markdown",
   "metadata": {},
   "source": [
    "$\\quad$"
   ]
  },
  {
   "cell_type": "code",
   "execution_count": null,
   "metadata": {},
   "outputs": [],
   "source": [
    "i=0\n",
    "h=0\n",
    "X_t_2=X_t\n",
    "Ti_2=Ti\n",
    "while i < len(z_S):\n",
    "    if z_S[i]!=0:\n",
    "        \n",
    "        X_t_a=X_t_2[:i+h]\n",
    "        X_t_a.append(z_S[i]+X_t[i])\n",
    "        X_t_b=X_t_2[i+h:]\n",
    "        X_t_2=X_t_a+X_t_b\n",
    "        \n",
    "        Ti_a=Ti_2[:i+h]\n",
    "        Ti_a.append(Ti[i])\n",
    "        Ti_b=Ti_2[i+h:]\n",
    "        Ti_2=Ti_a+Ti_b\n",
    "        h+=1\n",
    "    i+=1"
   ]
  },
  {
   "cell_type": "code",
   "execution_count": null,
   "metadata": {},
   "outputs": [],
   "source": [
    "plt.figure(figsize=(15,6))\n",
    "plt.plot(Ti_2,X_t_2,color='blue')\n",
    "plt.title('Xt vs T')\n",
    "plt.xlim(0,T)\n",
    "plt.ylim(0,np.max(X_t_2)+10)\n",
    "plt.xlabel('Time')\n",
    "plt.ylabel('Surplus Xt')"
   ]
  },
  {
   "cell_type": "markdown",
   "metadata": {},
   "source": [
    "$\\quad$"
   ]
  },
  {
   "cell_type": "markdown",
   "metadata": {},
   "source": [
    "Se definirá la función de ruina para el superávit dado con el fin de conocer la probabilidad de ruina de la compañía en un intervalo de tiempo dado"
   ]
  },
  {
   "cell_type": "markdown",
   "metadata": {},
   "source": [
    "$\\quad$"
   ]
  },
  {
   "cell_type": "code",
   "execution_count": null,
   "metadata": {},
   "outputs": [],
   "source": [
    "def ruina3(a,rho,delta,alpha,beta,gamma,lambda0,T,x_0,c,sim):\n",
    "    \n",
    "    x_t=[]\n",
    "    z1=[]\n",
    "    initial=0\n",
    "    i=0\n",
    "    while initial<sim:\n",
    "        Ti,Nt,N,lambdat,sizeSJ,sizeEJ=simulation3(a,rho,delta,alpha,beta,lambda0,T)\n",
    "        z1=np.random.exponential(scale=1/gamma,size=np.max(Nt))\n",
    "        x=x_0+c*T-np.sum(z1)\n",
    "        x_t.append(x)\n",
    "        initial=initial+1\n",
    "        if initial==100000:\n",
    "            break\n",
    "    return x_t,z1"
   ]
  },
  {
   "cell_type": "code",
   "execution_count": null,
   "metadata": {},
   "outputs": [],
   "source": [
    "x_t,z1=ruina3(a,rho,delta,alpha,beta,gamma,lambda0,1,x_0,c,100)"
   ]
  },
  {
   "cell_type": "code",
   "execution_count": null,
   "metadata": {},
   "outputs": [],
   "source": [
    "x_t"
   ]
  },
  {
   "cell_type": "markdown",
   "metadata": {},
   "source": [
    "Primera simulación de la probabilidad de ruina de la compañía. "
   ]
  },
  {
   "cell_type": "code",
   "execution_count": null,
   "metadata": {},
   "outputs": [],
   "source": [
    "i=0\n",
    "count=0\n",
    "while i < len(x_t):\n",
    "    if x_t[i]<0:\n",
    "        count=count+1\n",
    "    i=i+1\n",
    "    if i==200000:\n",
    "        break\n",
    "\n",
    "P_ruina=(count/len(x_t))        \n",
    "P_ruina"
   ]
  },
  {
   "cell_type": "markdown",
   "metadata": {},
   "source": [
    "$\\quad$"
   ]
  },
  {
   "cell_type": "markdown",
   "metadata": {},
   "source": [
    "Se realiza la simulación de la probabilidad de ruina para un tiempo lo \"suficientemente\" grande para conocer la convergencia de la probabilidad. Siguiendo el tiempo dado por Dassios y Zhao, se realizará por intervalos de 5 unidades hasta un tiempo de 400.\n",
    "La observación adicional se obtendrá cambiando el valor de la prima, ya que si la condición de ganancia neta se cumple, la probabilidad de ruina será cero para todos los intervalos de tiempo. "
   ]
  },
  {
   "cell_type": "markdown",
   "metadata": {},
   "source": [
    "$\\quad$"
   ]
  },
  {
   "cell_type": "code",
   "execution_count": null,
   "metadata": {},
   "outputs": [],
   "source": [
    "c=0.8\n",
    "sim=100\n",
    "P_ruina1=[]\n",
    "\n",
    "for T in range(0,800,5):\n",
    "    x_t,z1=ruina3(a,rho,delta,alpha,beta,gamma,lambda0,T,x_0,c,sim)\n",
    "    \n",
    "    ixs=np.array(x_t) <=0\n",
    "    count=sum(ixs)\n",
    "    \n",
    "    \n",
    "    P_ruina=(count/len(x_t))        \n",
    "    P_ruina1.append(P_ruina)\n",
    "        \n",
    "P_ruina1"
   ]
  },
  {
   "cell_type": "code",
   "execution_count": null,
   "metadata": {},
   "outputs": [],
   "source": [
    "plt.scatter(np.linspace(0,800,160),P_ruina1)\n",
    "plt.xlabel('Time')\n",
    "plt.title('Ruin Probability')\n",
    "plt.ylim(0,np.max(P_ruina1)+0.1)"
   ]
  },
  {
   "cell_type": "code",
   "execution_count": null,
   "metadata": {},
   "outputs": [],
   "source": [
    "np.max(P_ruina1)"
   ]
  }
 ],
 "metadata": {
  "celltoolbar": "Raw Cell Format",
  "colab": {
   "name": "Tesis.ipynb",
   "provenance": []
  },
  "kernelspec": {
   "display_name": "Python 3",
   "language": "python",
   "name": "python3"
  },
  "language_info": {
   "codemirror_mode": {
    "name": "ipython",
    "version": 3
   },
   "file_extension": ".py",
   "mimetype": "text/x-python",
   "name": "python",
   "nbconvert_exporter": "python",
   "pygments_lexer": "ipython3",
   "version": "3.7.3"
  }
 },
 "nbformat": 4,
 "nbformat_minor": 1
}
