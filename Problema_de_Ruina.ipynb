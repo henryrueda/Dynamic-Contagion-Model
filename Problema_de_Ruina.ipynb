{
 "cells": [
  {
   "cell_type": "code",
   "execution_count": 1,
   "metadata": {
    "colab": {},
    "colab_type": "code",
    "executionInfo": {
     "elapsed": 503,
     "status": "ok",
     "timestamp": 1599950464543,
     "user": {
      "displayName": "Juan David Jaramillo Urrutia",
      "photoUrl": "https://lh3.googleusercontent.com/a-/AOh14Gg_bJgqyot_MW8Acm8-sIrDFpcPR6hjlW02wjJSRQ=s64",
      "userId": "12089805435579480557"
     },
     "user_tz": 300
    },
    "id": "3FBzx0-PbTJH"
   },
   "outputs": [],
   "source": [
    "import matplotlib.pyplot as plt\n",
    "from scipy.stats import describe\n",
    "import numpy as np\n",
    "import pandas as pd\n",
    "import operator\n",
    "from astropy.table import QTable, Table, Column\n",
    "from astropy import units as u"
   ]
  },
  {
   "cell_type": "markdown",
   "metadata": {},
   "source": [
    "                                                      PROBLEMA DE RUINA"
   ]
  },
  {
   "cell_type": "markdown",
   "metadata": {},
   "source": [
    "\n",
    "$$X_{t}= x_0 +ct - \\sum_{i=1} ^ {N_t} Zi$$\n",
    "             \n",
    "Donde $Z_i$ se distribuye exponencial."
   ]
  },
  {
   "cell_type": "markdown",
   "metadata": {},
   "source": [
    "Probar la condición de ganancia neta $$c>\\frac{(\\mu_{1_H} \\rho + a \\delta)}{(\\delta-\\mu_{1G})}\\mu_{1_Z}$$\n",
    "donde $x_0$ es constante y $c$ es constante"
   ]
  },
  {
   "cell_type": "markdown",
   "metadata": {},
   "source": [
    "Se realizará la simulación propuesta por Dassios y Zhao para calcular los tiempos de saltos del modelo."
   ]
  },
  {
   "cell_type": "code",
   "execution_count": 2,
   "metadata": {
    "colab": {},
    "colab_type": "code",
    "executionInfo": {
     "elapsed": 457,
     "status": "ok",
     "timestamp": 1599950649694,
     "user": {
      "displayName": "Juan David Jaramillo Urrutia",
      "photoUrl": "https://lh3.googleusercontent.com/a-/AOh14Gg_bJgqyot_MW8Acm8-sIrDFpcPR6hjlW02wjJSRQ=s64",
      "userId": "12089805435579480557"
     },
     "user_tz": 300
    },
    "id": "XGlHIvJgeN_e"
   },
   "outputs": [],
   "source": [
    "def simulation2(a,rho,delta,alpha,beta,lambda0,T):\n",
    "    T0=0\n",
    "    Nt=[]\n",
    "    Nt.append(0)\n",
    "    E=(-1/rho)*(np.log(np.random.uniform(0,1)))\n",
    "    d1=1+((delta*np.log(np.random.uniform(0,1)))/lambda0-a)\n",
    "    lambdat=[]\n",
    "    Ti=[]\n",
    "    size=[]\n",
    "    if d1>0:\n",
    "        S1=(-np.log(d1))/delta\n",
    "        S2=(-np.log(np.random.uniform(0,1)))/a\n",
    "        S= min(S1,S2)\n",
    "    else:\n",
    "        S2=(-np.log(np.random.uniform(0,1)))/a\n",
    "        S=S2\n",
    "    Ti.append(T0+min(S,E))\n",
    "    lambdamenos=a+(lambda0-a)*np.exp(-delta*(Ti[0]-T0))\n",
    "    if S<E:\n",
    "        SJ=np.random.exponential(scale=1/beta)\n",
    "        lambdat.append(lambdamenos+SJ)\n",
    "        size.append(SJ)\n",
    "        N=1\n",
    "    else:\n",
    "        EJ=np.random.exponential(scale=1/alpha)\n",
    "        lambdat.append(lambdamenos+EJ)\n",
    "        size.append(EJ)\n",
    "        N=0\n",
    "    Nt[0]=N\n",
    "    i=1\n",
    "    Tx=Ti[-1]\n",
    "    while Tx<T:\n",
    "        E=(-1/rho)*(np.log(np.random.uniform(0,1)))\n",
    "        d1=1+((delta*np.log(np.random.uniform(0,1)))/lambdat[i-1]-a)\n",
    "        if d1>0:\n",
    "            S1=(-np.log(d1))/delta\n",
    "            S2=(-np.log(np.random.uniform(0,1)))/a\n",
    "            S= min(S1,S2)\n",
    "        else:\n",
    "            S2=(-np.log(np.random.uniform(0,1)))/a\n",
    "            S=S2\n",
    "        Tx=Ti[i-1]+min(S,E)\n",
    "        if Tx>T:\n",
    "            break\n",
    "        Ti.append(Tx)\n",
    "        lambdamenos=a+(lambdat[i-1]-a)*np.exp(-delta*(Ti[i]-Ti[i-1]))\n",
    "        if S<E:\n",
    "            SJ=np.random.exponential(scale=1/beta)\n",
    "            lambdat.append(lambdamenos+SJ)\n",
    "            size.append(SJ)\n",
    "            N=1+N\n",
    "        else:\n",
    "            EJ=np.random.exponential(scale=1/alpha)\n",
    "            lambdat.append(lambdamenos+EJ)\n",
    "            size.append(EJ)\n",
    "            N=0+N\n",
    "        Nt.append(N)\n",
    "        i=i+1\n",
    "        if i==1000000:\n",
    "            break\n",
    "    return Ti,Nt,N,lambdat,size"
   ]
  },
  {
   "cell_type": "markdown",
   "metadata": {},
   "source": [
    "$\\quad$"
   ]
  },
  {
   "cell_type": "markdown",
   "metadata": {},
   "source": [
    "Los parámetros a utilizar durante la primera simulación serán:\n",
    "$$(a,\\rho,\\delta,\\alpha,\\beta,\\gamma,\\lambda_0,T,c,x_0)=(0.7,0.5,2.0,2.0,1.5,1.0,0.7,50,1.5,10) $$"
   ]
  },
  {
   "cell_type": "markdown",
   "metadata": {},
   "source": [
    "$\\quad$"
   ]
  },
  {
   "cell_type": "code",
   "execution_count": 4,
   "metadata": {},
   "outputs": [],
   "source": [
    "a=0.7;rho=0.5;delta=2.0;alpha=2.0;beta=1.5;gamma=1.0;lambda0=0.7;T=50;c=1.5;x_0=10"
   ]
  },
  {
   "cell_type": "code",
   "execution_count": 5,
   "metadata": {},
   "outputs": [],
   "source": [
    "Ti,Nt,N,lambdat,size=simulation2(a,rho,delta,alpha,beta,lambda0,T)"
   ]
  },
  {
   "cell_type": "code",
   "execution_count": 6,
   "metadata": {},
   "outputs": [],
   "source": [
    "#Conteo del número de saltos internos\n",
    "i=0\n",
    "Nt_final=[]\n",
    "while i <(len(Nt)):\n",
    "    \n",
    "    if i==0:\n",
    "        intr=Nt[0]\n",
    "        \n",
    "    else:\n",
    "        intr=Nt[i]-Nt[i-1]\n",
    "    Nt_final.append(intr)    \n",
    "    i=i+1\n",
    "    if i ==10000000:\n",
    "        break"
   ]
  },
  {
   "cell_type": "code",
   "execution_count": 7,
   "metadata": {},
   "outputs": [],
   "source": [
    "#Tiempos de saltos internos\n",
    "Ti_S = list(map(operator.mul, Ti, Nt_final))"
   ]
  },
  {
   "cell_type": "markdown",
   "metadata": {},
   "source": [
    "                                                     GRÁFICAS"
   ]
  },
  {
   "cell_type": "markdown",
   "metadata": {},
   "source": [
    "La gráfica del proceso puntual respecto a el tiempo nos permitirá conocer los tiempos en los cuales ocurrren saltos internos y en cuales se mantiene constante teniendo saltos externos en algún instante $T_i$"
   ]
  },
  {
   "cell_type": "code",
   "execution_count": 8,
   "metadata": {},
   "outputs": [
    {
     "data": {
      "text/plain": [
       "<matplotlib.legend.Legend at 0x293fbb5fe48>"
      ]
     },
     "execution_count": 8,
     "metadata": {},
     "output_type": "execute_result"
    },
    {
     "data": {
      "image/png": "[encoded data removed]",
      "text/plain": [
       "<Figure size 1080x360 with 1 Axes>"
      ]
     },
     "metadata": {
      "needs_background": "light"
     },
     "output_type": "display_data"
    }
   ],
   "source": [
    "plt.figure(figsize=(15,5))\n",
    "plt.scatter(Ti,Nt,label='Jumps self and externally',color='red')\n",
    "plt.step(Ti,Nt,where='post')\n",
    "#plt.title('Ti vs Nt')\n",
    "plt.xlabel('Time')\n",
    "plt.ylabel('Point Process Nt')\n",
    "plt.legend()\n",
    "#plt.savefig(\"Proceso_Conteo.jpg\", bbox_inches='tight')"
   ]
  },
  {
   "cell_type": "markdown",
   "metadata": {},
   "source": [
    "Siguiendo la simulación para el proceso de intensidad $\\lambda_t$ podemos obtener los tiempos en los cuales ocurren saltos junto con su respectiva intesidad para ese instante de tiempo  "
   ]
  },
  {
   "cell_type": "code",
   "execution_count": 9,
   "metadata": {},
   "outputs": [
    {
     "data": {
      "text/plain": [
       "<matplotlib.legend.Legend at 0x293fbbdfda0>"
      ]
     },
     "execution_count": 9,
     "metadata": {},
     "output_type": "execute_result"
    },
    {
     "data": {
      "image/png": "[encoded data removed]",
      "text/plain": [
       "<Figure size 1080x360 with 1 Axes>"
      ]
     },
     "metadata": {
      "needs_background": "light"
     },
     "output_type": "display_data"
    }
   ],
   "source": [
    "plt.figure(figsize=(15,5))\n",
    "plt.xlim(0,T)\n",
    "plt.scatter(Ti,lambdat,label='Jump',color='red')\n",
    "plt.xlabel('Time')\n",
    "plt.ylabel('Intensity Process')\n",
    "plt.legend()\n",
    "#plt.savefig(\"Proceso_Intensidad.jpg\", bbox_inches='tight')"
   ]
  },
  {
   "cell_type": "markdown",
   "metadata": {},
   "source": [
    "Se realizará una modificación al algoritmo de simulación de tal manera que se puedan conocer la diferencia entre la ocurrencia de un salto interno y uno externo. Esto nos servirá para calcular la media de cada uno de ellos y poder realizar el cálculo de la condición de ganancia neta."
   ]
  },
  {
   "cell_type": "code",
   "execution_count": 11,
   "metadata": {},
   "outputs": [],
   "source": [
    "def simulation3(a,rho,delta,alpha,beta,lambda0,T):\n",
    "    T0=0\n",
    "    Nt=[]\n",
    "    Nt.append(0)\n",
    "    E=(-1/rho)*(np.log(np.random.uniform(0,1)))\n",
    "    d1=1+((delta*np.log(np.random.uniform(0,1)))/lambda0-a)\n",
    "    lambdat=[]\n",
    "    Ti=[]\n",
    "    size=[]\n",
    "    sizeSJ=[]\n",
    "    sizeEJ=[]\n",
    "    if d1>0:\n",
    "        S1=(-np.log(d1))/delta\n",
    "        S2=(-np.log(np.random.uniform(0,1)))/a\n",
    "        S= min(S1,S2)\n",
    "    else:\n",
    "        S2=(-np.log(np.random.uniform(0,1)))/a\n",
    "        S=S2\n",
    "    Ti.append(T0+min(S,E))\n",
    "    lambdamenos=a+(lambda0-a)*np.exp(-delta*(Ti[0]-T0))\n",
    "    if S<E:\n",
    "        SJ=np.random.exponential(scale=1/beta)\n",
    "        lambdat.append(lambdamenos+SJ)\n",
    "        size.append(SJ)\n",
    "        sizeSJ.append(SJ)\n",
    "        N=1\n",
    "    else:\n",
    "        EJ=np.random.exponential(scale=1/alpha)\n",
    "        lambdat.append(lambdamenos+EJ)\n",
    "        size.append(EJ)\n",
    "        sizeEJ.append(EJ)\n",
    "        N=0\n",
    "    Nt[0]=N\n",
    "    i=1\n",
    "    Tx=Ti[-1]\n",
    "    while Tx<T:\n",
    "        E=(-1/rho)*(np.log(np.random.uniform(0,1)))\n",
    "        d1=1+((delta*np.log(np.random.uniform(0,1)))/lambdat[i-1]-a)\n",
    "        if d1>0:\n",
    "            S1=(-np.log(d1))/delta\n",
    "            S2=(-np.log(np.random.uniform(0,1)))/a\n",
    "            S= min(S1,S2)\n",
    "        else:\n",
    "            S2=(-np.log(np.random.uniform(0,1)))/a\n",
    "            S=S2\n",
    "        Tx=Ti[i-1]+min(S,E)\n",
    "        if Tx>T:\n",
    "            break\n",
    "        Ti.append(Tx)\n",
    "        \n",
    "        if S<E:\n",
    "            SJ=np.random.exponential(scale=1/beta)\n",
    "            lambdat.append(lambdamenos+SJ)\n",
    "            size.append(SJ)\n",
    "            sizeSJ.append(SJ)\n",
    "            N=1+N\n",
    "        else:\n",
    "            EJ=np.random.exponential(scale=1/alpha)\n",
    "            lambdat.append(lambdamenos+EJ)\n",
    "            size.append(EJ)\n",
    "            sizeEJ.append(EJ)\n",
    "            N=0+N\n",
    "        Nt.append(N)\n",
    "        i=i+1\n",
    "        if i==1000000:\n",
    "            break\n",
    "    return Ti,Nt,N,lambdat,sizeSJ,sizeEJ"
   ]
  },
  {
   "cell_type": "markdown",
   "metadata": {},
   "source": [
    "Se realizará la simulación con los parámetros $$(a,\\rho,\\delta,\\alpha,\\beta,\\gamma,\\lambda_0,c,X_0,T)=(0.7,0.5,2.0,2.0,1.5,1.0,0.7,1.5,10,50) $$"
   ]
  },
  {
   "cell_type": "code",
   "execution_count": 12,
   "metadata": {},
   "outputs": [],
   "source": [
    "a=0.7;rho=0.5;delta=2.0;alpha=2.0;beta=1.5;gamma=1.0;lambda0=0.7;c=1.5;x_0=10;T=50"
   ]
  },
  {
   "cell_type": "code",
   "execution_count": 37,
   "metadata": {},
   "outputs": [],
   "source": [
    "Ti,Nt,N,lambdat,sizeSJ,sizeEJ=simulation3(a,rho,delta,alpha,beta,lambda0,T)"
   ]
  },
  {
   "cell_type": "markdown",
   "metadata": {},
   "source": [
    "$\\quad$"
   ]
  },
  {
   "cell_type": "markdown",
   "metadata": {},
   "source": [
    "Cálculo de las esperanzas de los saltos internos y externos para determinar la condición de ganancia neta."
   ]
  },
  {
   "cell_type": "code",
   "execution_count": 38,
   "metadata": {},
   "outputs": [
    {
     "name": "stdout",
     "output_type": "stream",
     "text": [
      "(0.7960059599825331, 0.5025501101238325)\n",
      "46\n"
     ]
    }
   ],
   "source": [
    "mu1G=describe(sizeSJ).mean\n",
    "mu1H=describe(sizeEJ).mean\n",
    "print((mu1G,mu1H))\n",
    "print(np.max(Nt))"
   ]
  },
  {
   "cell_type": "markdown",
   "metadata": {},
   "source": [
    "$\\quad$"
   ]
  },
  {
   "cell_type": "markdown",
   "metadata": {},
   "source": [
    "La gráfica del número de saltos internos para la nueva simulación incluirá el valor esperado del proceso puntual dada la condición estacionaria."
   ]
  },
  {
   "cell_type": "markdown",
   "metadata": {},
   "source": [
    "$\\quad$"
   ]
  },
  {
   "cell_type": "code",
   "execution_count": 39,
   "metadata": {},
   "outputs": [
    {
     "name": "stdout",
     "output_type": "stream",
     "text": [
      "46 68.57488493206995\n"
     ]
    },
    {
     "data": {
      "image/png": "[encoded data removed]",
      "text/plain": [
       "<Figure size 1080x432 with 1 Axes>"
      ]
     },
     "metadata": {
      "needs_background": "light"
     },
     "output_type": "display_data"
    }
   ],
   "source": [
    "E_Nt=(mu1H * rho + a * delta)*T/(delta- mu1G)\n",
    "E_Nt1=[]\n",
    "i=0\n",
    "while i<len(Ti):\n",
    "    \n",
    "    E_Nt2=(mu1H * rho + a * delta)*Ti[i]/(delta- mu1G)\n",
    "    E_Nt1.append(E_Nt2)\n",
    "    i=i+1\n",
    "    if i==10000000:\n",
    "        break\n",
    "    \n",
    "\n",
    "    \n",
    "plt.figure(figsize=(15,6))\n",
    "plt.plot(Ti,E_Nt1,linestyle='--',label='Expect Value Nt')\n",
    "plt.step(Ti,Nt,where='post', label='Simulated Nt')\n",
    "plt.title('Ti vs Nt')\n",
    "plt.xlim(0,T)\n",
    "plt.ylim(0,np.max(E_Nt1))\n",
    "plt.xlabel('Time')\n",
    "plt.ylabel('Point Process Nt')\n",
    "plt.legend()\n",
    "print(np.max(Nt),E_Nt)"
   ]
  },
  {
   "cell_type": "markdown",
   "metadata": {},
   "source": [
    "$\\quad$"
   ]
  },
  {
   "cell_type": "markdown",
   "metadata": {},
   "source": [
    "Se realiza la simulación del tamaño de las reclamaciones que siguen distribución exponencial. Únicamente se tienen en cuenta los saltos internos para su cálculo."
   ]
  },
  {
   "cell_type": "markdown",
   "metadata": {},
   "source": [
    "$\\quad$"
   ]
  },
  {
   "cell_type": "code",
   "execution_count": 40,
   "metadata": {},
   "outputs": [],
   "source": [
    "z=[]\n",
    "i=0\n",
    "while i<len(Nt):\n",
    "    y=np.random.exponential(scale=1/gamma)\n",
    "    z.append(y)\n",
    "    i=i+1\n",
    "    if i==200000:\n",
    "        break\n",
    "mu1G=describe(sizeSJ).mean\n",
    "mu1H=describe(sizeEJ).mean\n",
    "mu1Z=describe(z).mean"
   ]
  },
  {
   "cell_type": "markdown",
   "metadata": {},
   "source": [
    "$\\quad$"
   ]
  },
  {
   "cell_type": "markdown",
   "metadata": {},
   "source": [
    "Se comprueba que se cumpla la condición de ganancia neta para la prima $c$ dada en los parámetros iniciales"
   ]
  },
  {
   "cell_type": "markdown",
   "metadata": {},
   "source": [
    "$\\quad$"
   ]
  },
  {
   "cell_type": "code",
   "execution_count": 41,
   "metadata": {},
   "outputs": [
    {
     "name": "stdout",
     "output_type": "stream",
     "text": [
      "Satisfy the Net Profit Condition\n"
     ]
    }
   ],
   "source": [
    "net=((mu1H* rho + a * delta)*mu1Z)/(delta-mu1G)\n",
    "if c>net:\n",
    "    print('Satisfy the Net Profit Condition')\n",
    "else:\n",
    "    print('Does not satisfy the Net Profit Condition')\n",
    "\n"
   ]
  },
  {
   "cell_type": "code",
   "execution_count": 42,
   "metadata": {},
   "outputs": [
    {
     "name": "stdout",
     "output_type": "stream",
     "text": [
      "77 [0.3409468665476979, 1.9318818025610338, 0.8193844525033654, 1.0130340554381192, 1.5499224570759462, 3.203417999300095, 2.514639414422569, 2.645267273005975, 0.2914840193161915, 0.6541271955657585, 2.558121211242732, 1.8714995782462398, 2.3707213365366444, 1.4238620925028198, 2.1845059145480703, 1.8522937011746492, 0.9134056709767275, 2.201342499495099, 0.7919658597744982, 1.768486049194291, 0.4377496980291389, 1.7017772471365076, 1.2155729723690503, 2.6131768937773696, 0.030640729294867507, 0.3323899718542702, 0.6431174263577382, 0.7069208536853131, 3.765792595642913, 0.7096552343295515, 0.09764264694051801, 1.3651502896300856, 1.0576199638690589, 0.2621803409719641, 0.3237764942445363, 0.21589806789641294, 0.027798184770948812, 0.9190565305424274, 0.6837553174663594, 2.5201144990808464, 0.12083089596946489, 2.4827128820222026, 1.806278463332503, 0.3286232024823868, 0.4173092538455, 0.7359816691469252, 0.2810194865254932, 0.9621137216885192, 0.40912385767514653, 0.37555919586165365, 0.4364993362044335, 1.9273881680991232, 0.4399681000470416, 1.589656987561698, 0.3709900981343907, 1.112755315573614, 3.5762943763605883, 1.104798641451676, 0.5821180893752153, 0.549187909898393, 0.8198387864617099, 0.2218428846441033, 0.4616681247518008, 1.5661532613522724, 0.4799379598654915, 0.9765404754912138, 1.9696866727430422, 0.022801496697908364, 0.03540602278676303, 0.6099045824747983, 0.006628754409172881, 0.58849835385951, 0.08045470497175204, 1.771363683986054, 0.7373651789071853, 0.5594101736035992, 0.38736106256734215]\n"
     ]
    }
   ],
   "source": [
    "#Tamaño de la reclamación y número de reclamaciones\n",
    "print(np.size(z),z)"
   ]
  },
  {
   "cell_type": "code",
   "execution_count": 43,
   "metadata": {},
   "outputs": [],
   "source": [
    "#Conteo del número de saltos internos\n",
    "i=0\n",
    "Nt_final=[]\n",
    "while i <(len(Nt)):\n",
    "    \n",
    "    if i==0:\n",
    "        hola=Nt[0]\n",
    "        \n",
    "    else:\n",
    "        hola=Nt[i]-Nt[i-1]\n",
    "    Nt_final.append(hola)    \n",
    "    i=i+1\n",
    "    if i ==10000000:\n",
    "        break"
   ]
  },
  {
   "cell_type": "code",
   "execution_count": 44,
   "metadata": {},
   "outputs": [],
   "source": [
    "#Tiempos de saltos internos\n",
    "Ti_S = list(map(operator.mul, Ti, Nt_final))"
   ]
  },
  {
   "cell_type": "code",
   "execution_count": 45,
   "metadata": {
    "scrolled": false
   },
   "outputs": [],
   "source": [
    "#Tamaño de los saltos internos\n",
    "z_S = list(map(operator.mul, z, Nt_final))"
   ]
  },
  {
   "cell_type": "code",
   "execution_count": 46,
   "metadata": {},
   "outputs": [],
   "source": [
    "X_t=[]\n",
    "i=0\n",
    "while i<len(Ti):\n",
    "    xt=x_0+c*(Ti[i])-np.cumsum(z_S)[i]\n",
    "    X_t.append(xt)\n",
    "    i=i+1\n",
    "    if i==2000000:\n",
    "        break"
   ]
  },
  {
   "cell_type": "code",
   "execution_count": 47,
   "metadata": {},
   "outputs": [
    {
     "data": {
      "text/plain": [
       "[10.937221573697572,\n",
       " 11.20186942488777,\n",
       " 10.478922849443217,\n",
       " 11.274788800767821,\n",
       " 11.971669782836125,\n",
       " 9.845205967991085,\n",
       " 10.00672533818145,\n",
       " 12.15334413166064,\n",
       " 12.503452925824329,\n",
       " 11.994974150378255,\n",
       " 10.547508725603215,\n",
       " 8.688802722251232,\n",
       " 8.71898117378721,\n",
       " 11.805513724878555,\n",
       " 9.731324036294875,\n",
       " 9.799672777380838,\n",
       " 9.482129895769003,\n",
       " 10.82970838196589,\n",
       " 10.753278825650913,\n",
       " 11.357721514597372,\n",
       " 10.927547959172973,\n",
       " 10.151599987336446,\n",
       " 9.040488254695653,\n",
       " 8.45901503908194,\n",
       " 9.69067925958231,\n",
       " 10.646811995517389,\n",
       " 10.947733518038508,\n",
       " 10.630922994815265,\n",
       " 8.333917679467532,\n",
       " 8.47127817626491,\n",
       " 9.059879263831206,\n",
       " 8.536347445988483,\n",
       " 7.64200683034877,\n",
       " 8.862381766445388,\n",
       " 10.752147492524713,\n",
       " 11.075531102372508,\n",
       " 11.939673110019612,\n",
       " 12.310274709911077,\n",
       " 12.789407344600477,\n",
       " 10.345085610214952,\n",
       " 11.09305630196161,\n",
       " 10.223063795087391,\n",
       " 10.719527701281521,\n",
       " 11.116254452077861,\n",
       " 11.433683382960531,\n",
       " 12.400534120160124,\n",
       " 12.559677750847165,\n",
       " 11.940877408202859,\n",
       " 14.014758807692743,\n",
       " 17.300971018052635,\n",
       " 17.456384456794126,\n",
       " 15.638312407720335,\n",
       " 15.754151381407219,\n",
       " 17.749942670296356,\n",
       " 19.366084513006186,\n",
       " 19.66743753444792,\n",
       " 19.829873898149764,\n",
       " 18.76351482387851,\n",
       " 19.405341282592303,\n",
       " 19.441410526229078,\n",
       " 18.686759812063393,\n",
       " 19.2766130976971,\n",
       " 19.31670482810862,\n",
       " 18.37004648081946,\n",
       " 18.629967949916725,\n",
       " 21.28192797079847,\n",
       " 22.098566464242552,\n",
       " 22.72814070708388,\n",
       " 23.643842781919282,\n",
       " 23.90538855086303,\n",
       " 24.822355644362503,\n",
       " 25.565059388712044,\n",
       " 27.988577910705487,\n",
       " 29.19332773287711,\n",
       " 29.73515741560682,\n",
       " 29.842669530047218,\n",
       " 30.66893017579016]"
      ]
     },
     "execution_count": 47,
     "metadata": {},
     "output_type": "execute_result"
    }
   ],
   "source": [
    "X_t"
   ]
  },
  {
   "cell_type": "markdown",
   "metadata": {},
   "source": [
    "$\\quad$"
   ]
  },
  {
   "cell_type": "markdown",
   "metadata": {},
   "source": [
    "Dada la prima $c$, se procede a calcular el superávit de la compañía para la ventana de tiempo $t$.\n",
    "\n"
   ]
  },
  {
   "cell_type": "markdown",
   "metadata": {},
   "source": [
    "$\\quad$"
   ]
  },
  {
   "cell_type": "code",
   "execution_count": 48,
   "metadata": {},
   "outputs": [],
   "source": [
    "i=0\n",
    "h=0\n",
    "X_t_2=X_t\n",
    "Ti_2=Ti\n",
    "while i < len(z_S):\n",
    "    if z_S[i]!=0:\n",
    "        \n",
    "        X_t_a=X_t_2[:i+h]\n",
    "        X_t_a.append(z_S[i]+X_t[i])\n",
    "        X_t_b=X_t_2[i+h:]\n",
    "        X_t_2=X_t_a+X_t_b\n",
    "        \n",
    "        Ti_a=Ti_2[:i+h]\n",
    "        Ti_a.append(Ti[i])\n",
    "        Ti_b=Ti_2[i+h:]\n",
    "        Ti_2=Ti_a+Ti_b\n",
    "        h+=1\n",
    "    i+=1"
   ]
  },
  {
   "cell_type": "code",
   "execution_count": 49,
   "metadata": {},
   "outputs": [
    {
     "data": {
      "text/plain": [
       "Text(0, 0.5, 'Surplus Xt')"
      ]
     },
     "execution_count": 49,
     "metadata": {},
     "output_type": "execute_result"
    },
    {
     "data": {
      "image/png": "[encoded data removed]",
      "text/plain": [
       "<Figure size 1080x432 with 1 Axes>"
      ]
     },
     "metadata": {
      "needs_background": "light"
     },
     "output_type": "display_data"
    }
   ],
   "source": [
    "plt.figure(figsize=(15,6))\n",
    "plt.plot(Ti_2,X_t_2,color='blue')\n",
    "plt.title('Xt vs T')\n",
    "plt.xlim(0,T)\n",
    "plt.ylim(0,np.max(X_t_2)+10)\n",
    "plt.xlabel('Time')\n",
    "plt.ylabel('Surplus Xt')"
   ]
  },
  {
   "cell_type": "markdown",
   "metadata": {},
   "source": [
    "$\\quad$"
   ]
  },
  {
   "cell_type": "markdown",
   "metadata": {},
   "source": [
    "Se definirá la función de ruina para el superávit dado con el fin de conocer la probabilidad de ruina de la compañía en un intervalo de tiempo dado"
   ]
  },
  {
   "cell_type": "markdown",
   "metadata": {},
   "source": [
    "$\\quad$"
   ]
  },
  {
   "cell_type": "code",
   "execution_count": 50,
   "metadata": {},
   "outputs": [],
   "source": [
    "def ruina3(a,rho,delta,alpha,beta,gamma,lambda0,T,x_0,c,sim):\n",
    "    \n",
    "    x_t=[]\n",
    "    z1=[]\n",
    "    initial=0\n",
    "    i=0\n",
    "    while initial<sim:\n",
    "        Ti,Nt,N,lambdat,sizeSJ,sizeEJ=simulation3(a,rho,delta,alpha,beta,lambda0,T)\n",
    "        z1=np.random.exponential(scale=1/gamma,size=np.max(Nt))\n",
    "        x=x_0+c*T-np.sum(z1)\n",
    "        x_t.append(x)\n",
    "        initial=initial+1\n",
    "        if initial==100000:\n",
    "            break\n",
    "    return x_t,z1"
   ]
  },
  {
   "cell_type": "code",
   "execution_count": 51,
   "metadata": {},
   "outputs": [],
   "source": [
    "sim=100\n",
    "x_t,z1=ruina3(a,rho,delta,alpha,beta,gamma,lambda0,T,x_0,c,sim)"
   ]
  },
  {
   "cell_type": "code",
   "execution_count": 52,
   "metadata": {},
   "outputs": [
    {
     "data": {
      "text/plain": [
       "[48.54220585412214,\n",
       " 40.02494525406728,\n",
       " 48.71314507625581,\n",
       " 49.979930050979156,\n",
       " 48.99130006064936,\n",
       " 46.77070392722848,\n",
       " 53.03690274264257,\n",
       " 46.213472336309586,\n",
       " 46.73126200959471,\n",
       " 53.32122715332773,\n",
       " 33.96749137569204,\n",
       " 57.11557955005045,\n",
       " 46.48706440822811,\n",
       " 45.24459897411697,\n",
       " 39.35374634379491,\n",
       " 46.11659524821244,\n",
       " 51.72479983341374,\n",
       " 57.92547045316478,\n",
       " 47.75809124909323,\n",
       " 60.38689900936235,\n",
       " 43.959037646556084,\n",
       " 60.61819705560431,\n",
       " 45.628291441221286,\n",
       " 45.72131363611807,\n",
       " 46.68796641679022,\n",
       " 46.1050998938934,\n",
       " 48.299212818777974,\n",
       " 47.65873324422032,\n",
       " 47.19040196912881,\n",
       " 50.93042448483369,\n",
       " 52.8988785905424,\n",
       " 49.20192459987487,\n",
       " 60.097601822133115,\n",
       " 48.38489535255991,\n",
       " 41.264294623019914,\n",
       " 42.35694507306549,\n",
       " 40.4358287021993,\n",
       " 41.77092768551964,\n",
       " 35.50787571510117,\n",
       " 46.142283969998836,\n",
       " 55.80271693359116,\n",
       " 45.797435822555244,\n",
       " 39.918422558938296,\n",
       " 50.556483819285916,\n",
       " 29.422674021233313,\n",
       " 52.42684157401602,\n",
       " 40.195133416423744,\n",
       " 43.926148656077665,\n",
       " 44.221981851915196,\n",
       " 57.48483382867944,\n",
       " 30.591941263088607,\n",
       " 51.210435652683266,\n",
       " 43.38129361298889,\n",
       " 52.1902883814291,\n",
       " 47.9983283224286,\n",
       " 41.094008105253906,\n",
       " 42.36830653214591,\n",
       " 44.37612104137356,\n",
       " 54.98133364977319,\n",
       " 44.730192551844084,\n",
       " 50.64293372899979,\n",
       " 30.51058365346288,\n",
       " 46.477414522996725,\n",
       " 47.05856244190128,\n",
       " 40.22711082233713,\n",
       " 48.18797285597528,\n",
       " 49.26502586031968,\n",
       " 17.508912115974013,\n",
       " 49.77558010968544,\n",
       " 54.808431492000935,\n",
       " 43.72095007917792,\n",
       " 42.05724347589099,\n",
       " 50.07838860901912,\n",
       " 47.51741366617726,\n",
       " 58.40426619327075,\n",
       " 53.57932982428544,\n",
       " 49.389491676754346,\n",
       " 40.58629888876208,\n",
       " 34.52193747821858,\n",
       " 42.55541624206712,\n",
       " 58.2319803499507,\n",
       " 34.978651926753415,\n",
       " 55.596678350361074,\n",
       " 56.11160945731701,\n",
       " 63.19828335928523,\n",
       " 43.64332826950218,\n",
       " 53.61201811044763,\n",
       " 55.028185278954,\n",
       " 40.487038020871935,\n",
       " 46.75204571429498,\n",
       " 29.471136822046127,\n",
       " 43.15437140324895,\n",
       " 57.407244428494465,\n",
       " 55.01425126168077,\n",
       " 54.07460401260384,\n",
       " 56.7070452376893,\n",
       " 48.3795699363455,\n",
       " 43.4294505465155,\n",
       " 47.52795824195416,\n",
       " 46.15192127847222]"
      ]
     },
     "execution_count": 52,
     "metadata": {},
     "output_type": "execute_result"
    }
   ],
   "source": [
    "x_t"
   ]
  },
  {
   "cell_type": "markdown",
   "metadata": {},
   "source": [
    "Primera simulación de la probabilidad de ruina de la compañía. "
   ]
  },
  {
   "cell_type": "code",
   "execution_count": 53,
   "metadata": {},
   "outputs": [
    {
     "data": {
      "text/plain": [
       "0.0"
      ]
     },
     "execution_count": 53,
     "metadata": {},
     "output_type": "execute_result"
    }
   ],
   "source": [
    "i=0\n",
    "count=0\n",
    "while i < len(x_t):\n",
    "    if x_t[i]<0:\n",
    "        count=count+1\n",
    "    i=i+1\n",
    "    if i==200000:\n",
    "        break\n",
    "\n",
    "P_ruina=(count/len(x_t))        \n",
    "P_ruina"
   ]
  },
  {
   "cell_type": "markdown",
   "metadata": {},
   "source": [
    "$\\quad$"
   ]
  },
  {
   "cell_type": "markdown",
   "metadata": {},
   "source": [
    "Se realiza la simulación de la probabilidad de ruina para un tiempo lo \"suficientemente\" grande para conocer la convergencia de la probabilidad. Siguiendo el tiempo dado por Dassios y Zhao, se realizará por intervalos de 5 unidades hasta un tiempo de 400.\n",
    "La observación adicional se obtendrá cambiando el valor de la prima, ya que si la condición de ganancia neta se cumple, la probabilidad de ruina será cero para todos los intervalos de tiempo. "
   ]
  },
  {
   "cell_type": "markdown",
   "metadata": {},
   "source": [
    "$\\quad$"
   ]
  },
  {
   "cell_type": "code",
   "execution_count": 55,
   "metadata": {},
   "outputs": [
    {
     "data": {
      "text/plain": [
       "[0.0,\n",
       " 0.0,\n",
       " 0.02,\n",
       " 0.01,\n",
       " 0.03,\n",
       " 0.05,\n",
       " 0.07,\n",
       " 0.06,\n",
       " 0.09,\n",
       " 0.06,\n",
       " 0.07,\n",
       " 0.04,\n",
       " 0.13,\n",
       " 0.16,\n",
       " 0.13,\n",
       " 0.08,\n",
       " 0.07,\n",
       " 0.13,\n",
       " 0.16,\n",
       " 0.11,\n",
       " 0.15,\n",
       " 0.1,\n",
       " 0.15,\n",
       " 0.25,\n",
       " 0.15,\n",
       " 0.13,\n",
       " 0.16,\n",
       " 0.13,\n",
       " 0.11,\n",
       " 0.14,\n",
       " 0.1,\n",
       " 0.17,\n",
       " 0.19,\n",
       " 0.24,\n",
       " 0.12,\n",
       " 0.17,\n",
       " 0.2,\n",
       " 0.2,\n",
       " 0.15,\n",
       " 0.14,\n",
       " 0.19,\n",
       " 0.17,\n",
       " 0.16,\n",
       " 0.14,\n",
       " 0.12,\n",
       " 0.15,\n",
       " 0.23,\n",
       " 0.26,\n",
       " 0.2,\n",
       " 0.23,\n",
       " 0.17,\n",
       " 0.17,\n",
       " 0.12,\n",
       " 0.14,\n",
       " 0.22,\n",
       " 0.23,\n",
       " 0.24,\n",
       " 0.18,\n",
       " 0.14,\n",
       " 0.18,\n",
       " 0.21,\n",
       " 0.26,\n",
       " 0.18,\n",
       " 0.23,\n",
       " 0.17,\n",
       " 0.21,\n",
       " 0.18,\n",
       " 0.1,\n",
       " 0.22,\n",
       " 0.17,\n",
       " 0.16,\n",
       " 0.16,\n",
       " 0.21,\n",
       " 0.12,\n",
       " 0.21,\n",
       " 0.22,\n",
       " 0.17,\n",
       " 0.11,\n",
       " 0.15,\n",
       " 0.18,\n",
       " 0.24,\n",
       " 0.2,\n",
       " 0.19,\n",
       " 0.18,\n",
       " 0.17,\n",
       " 0.21,\n",
       " 0.12,\n",
       " 0.21,\n",
       " 0.18,\n",
       " 0.12,\n",
       " 0.14,\n",
       " 0.14,\n",
       " 0.18,\n",
       " 0.18,\n",
       " 0.14,\n",
       " 0.22,\n",
       " 0.19,\n",
       " 0.14,\n",
       " 0.17,\n",
       " 0.21,\n",
       " 0.13,\n",
       " 0.15,\n",
       " 0.17,\n",
       " 0.1,\n",
       " 0.21,\n",
       " 0.14,\n",
       " 0.15,\n",
       " 0.18,\n",
       " 0.17,\n",
       " 0.12,\n",
       " 0.15,\n",
       " 0.2,\n",
       " 0.16,\n",
       " 0.19,\n",
       " 0.13,\n",
       " 0.22,\n",
       " 0.21,\n",
       " 0.19,\n",
       " 0.11,\n",
       " 0.13,\n",
       " 0.13,\n",
       " 0.19,\n",
       " 0.11,\n",
       " 0.14,\n",
       " 0.15,\n",
       " 0.16,\n",
       " 0.11,\n",
       " 0.17,\n",
       " 0.17,\n",
       " 0.16,\n",
       " 0.09,\n",
       " 0.2,\n",
       " 0.14,\n",
       " 0.13,\n",
       " 0.22,\n",
       " 0.2,\n",
       " 0.18,\n",
       " 0.2,\n",
       " 0.08,\n",
       " 0.11,\n",
       " 0.17,\n",
       " 0.16,\n",
       " 0.16,\n",
       " 0.15,\n",
       " 0.12,\n",
       " 0.16,\n",
       " 0.13,\n",
       " 0.16,\n",
       " 0.22,\n",
       " 0.16,\n",
       " 0.21,\n",
       " 0.11,\n",
       " 0.17,\n",
       " 0.18,\n",
       " 0.17,\n",
       " 0.14,\n",
       " 0.11,\n",
       " 0.11,\n",
       " 0.15,\n",
       " 0.19]"
      ]
     },
     "execution_count": 55,
     "metadata": {},
     "output_type": "execute_result"
    }
   ],
   "source": [
    "c=0.8\n",
    "sim=100\n",
    "P_ruina1=[]\n",
    "\n",
    "for T in range(0,800,5):\n",
    "    x_t,z1=ruina3(a,rho,delta,alpha,beta,gamma,lambda0,T,x_0,c,sim)\n",
    "    #i=0\n",
    "    #count=0\n",
    "    ixs=np.array(x_t) <=0\n",
    "    count=sum(ixs)\n",
    "    \n",
    "    #while i < len(x_t):\n",
    "     #   if x_t[i]<0:\n",
    "      #      count=count+1\n",
    "       # i=i+1\n",
    "        #if i==200000:\n",
    "         #   break\n",
    "\n",
    "    P_ruina=(count/len(x_t))        \n",
    "    P_ruina1.append(P_ruina)\n",
    "        \n",
    "P_ruina1"
   ]
  },
  {
   "cell_type": "code",
   "execution_count": null,
   "metadata": {},
   "outputs": [],
   "source": [
    "plt.figure(figsize=(15,6))\n",
    "plt.scatter(np.linspace(0,800,160),P_ruina1)\n",
    "plt.xlabel('Time')\n",
    "plt.ylabel('Probability')\n",
    "plt.ylim(0,np.max(P_ruina1)+0.1)\n",
    "#plt.savefig(\"ruina_probability.jpg\", bbox_inches='tight')"
   ]
  },
  {
   "cell_type": "code",
   "execution_count": null,
   "metadata": {},
   "outputs": [],
   "source": [
    "np.max(P_ruina1)"
   ]
  },
  {
   "cell_type": "code",
   "execution_count": null,
   "metadata": {},
   "outputs": [],
   "source": []
  },
  {
   "cell_type": "code",
   "execution_count": null,
   "metadata": {},
   "outputs": [],
   "source": []
  }
 ],
 "metadata": {
  "celltoolbar": "Raw Cell Format",
  "colab": {
   "name": "Tesis.ipynb",
   "provenance": []
  },
  "kernelspec": {
   "display_name": "Python 3",
   "language": "python",
   "name": "python3"
  },
  "language_info": {
   "codemirror_mode": {
    "name": "ipython",
    "version": 3
   },
   "file_extension": ".py",
   "mimetype": "text/x-python",
   "name": "python",
   "nbconvert_exporter": "python",
   "pygments_lexer": "ipython3",
   "version": "3.7.3"
  }
 },
 "nbformat": 4,
 "nbformat_minor": 1
}
