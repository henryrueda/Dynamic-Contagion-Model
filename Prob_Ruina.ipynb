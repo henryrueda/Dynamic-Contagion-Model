{
 "cells": [
  {
   "cell_type": "markdown",
   "metadata": {},
   "source": [
    "TESIS RUINA\n",
    "$\\quad$\n",
    "Mediante el algoritmo de Dassios y Zhao"
   ]
  },
  {
   "cell_type": "code",
   "execution_count": 1,
   "metadata": {},
   "outputs": [],
   "source": [
    "import matplotlib.pyplot as plt\n",
    "from scipy.stats import describe\n",
    "import numpy as np\n",
    "import pandas as pd\n",
    "import operator\n",
    "from astropy.table import QTable, Table, Column\n",
    "from astropy import units as u"
   ]
  },
  {
   "cell_type": "code",
   "execution_count": 2,
   "metadata": {},
   "outputs": [],
   "source": [
    "def DCP_generator2(a,rho,delta,alpha,beta,lambda0,T,N_paths,N_jumps_max):\n",
    "    N_T=np.zeros(N_paths)\n",
    "    for j_path in range (0,N_paths):\n",
    "        T_jump=np.zeros(N_jumps_max+1)\n",
    "        T_jump[0]=0\n",
    "        T_self=np.zeros(N_jumps_max+1)\n",
    "        T_self[0]=0\n",
    "        lambda_p=np.zeros(N_jumps_max+1)\n",
    "        lambda_p[0]=lambda0\n",
    "        lambda_n=np.zeros(N_jumps_max+1)\n",
    "        lambda_n[0]=lambda0\n",
    "        for i_jump in range(0,N_jumps_max):\n",
    "            E=(-1/rho)*np.log(np.random.rand())\n",
    "            d=1+((delta*np.log(np.random.rand()))/(lambda_p[i_jump]-a))\n",
    "            if (d>0):\n",
    "                S1=(-1/delta)*np.log(d)\n",
    "                S2=(-1/a)*(np.log(np.random.rand()))\n",
    "                S=min(S1,S2)\n",
    "            elif (d<0):\n",
    "                S=(-1/a)*(np.log(np.random.rand()))\n",
    "            tau=min(S,E)\n",
    "            T_jump[i_jump+1]=T_jump[i_jump]+tau\n",
    "            if (tau==S):\n",
    "                Y_size=(-1/beta)*np.log(np.random.rand())\n",
    "                T_self[i_jump+1]=1\n",
    "            elif (tau==E):\n",
    "                Y_size=(-1/alpha)*np.log(np.random.rand())\n",
    "                T_self[i_jump+1]=0\n",
    "            lambda_n[i_jump+1]=a+(lambda_p[i_jump]-a)*np.exp(-delta*tau)\n",
    "            lambda_p[i_jump+1]=lambda_n[i_jump+1]+Y_size\n",
    "            if T_jump[i_jump+1]>T:\n",
    "                N_T[j_path]=np.sum(T_self[0:i_jump])\n",
    "                break\n",
    "    return N_T,T_jump,T_self,lambda_p"
   ]
  },
  {
   "cell_type": "markdown",
   "metadata": {},
   "source": [
    "Se realizará la simulación para los parámetros:\n",
    "$$(a,\\rho,\\delta,\\alpha,\\beta,\\lambda_0,T,Njumpsmax,Npaths)=(0.7,0.5,2.0,2.0,1.5,1.0,400,10000,10000) $$"
   ]
  },
  {
   "cell_type": "code",
   "execution_count": 3,
   "metadata": {},
   "outputs": [],
   "source": [
    "a=0.7;rho=0.5;delta=2.0;alpha=2.0;beta=1.5;N_jumps_max=10000;T=400;N_paths=10000;lambda0=1.0"
   ]
  },
  {
   "cell_type": "code",
   "execution_count": null,
   "metadata": {},
   "outputs": [],
   "source": [
    "N_T,T_jump,T_self,lambda_p=DCP_generator2(a,rho,delta,alpha,beta,lambda0,T,N_paths,N_jumps_max)"
   ]
  },
  {
   "cell_type": "markdown",
   "metadata": {},
   "source": [
    "Suponemos que las reclamaciones siguen distribución Exponencial de parámetro $\\gamma$"
   ]
  },
  {
   "cell_type": "code",
   "execution_count": 100,
   "metadata": {},
   "outputs": [],
   "source": [
    "claims=[]\n",
    "i=0\n",
    "for i in (N_T):\n",
    "    j=0\n",
    "    z=[]\n",
    "    while j<i:\n",
    "        y=(-1/gamma)*np.log(np.random.rand())\n",
    "        z.append(y)\n",
    "        j=j+1\n",
    "        if j == 200000:\n",
    "            break\n",
    "    claim=x_0+c*T-(np.sum(z))    \n",
    "    claims.append(claim)"
   ]
  },
  {
   "cell_type": "code",
   "execution_count": 102,
   "metadata": {},
   "outputs": [
    {
     "data": {
      "text/plain": [
       "[-35.18726692736436]"
      ]
     },
     "execution_count": 102,
     "metadata": {},
     "output_type": "execute_result"
    }
   ],
   "source": [
    "claims"
   ]
  },
  {
   "cell_type": "code",
   "execution_count": 101,
   "metadata": {},
   "outputs": [
    {
     "data": {
      "text/plain": [
       "1.0"
      ]
     },
     "execution_count": 101,
     "metadata": {},
     "output_type": "execute_result"
    }
   ],
   "source": [
    "i=0\n",
    "count=0\n",
    "while i < len(claims):\n",
    "    if claims[i]<=0:\n",
    "        count=count+1\n",
    "    i=i+1\n",
    "    if i==200000:\n",
    "        break\n",
    "\n",
    "P_ruina=(count/len(claims))        \n",
    "P_ruina"
   ]
  },
  {
   "cell_type": "markdown",
   "metadata": {},
   "source": [
    "Realización de la simulación de ruina con los mismo parámetros pero una prima de 0.8 y una reserva inicial de 10"
   ]
  },
  {
   "cell_type": "code",
   "execution_count": 148,
   "metadata": {},
   "outputs": [],
   "source": [
    "a=0.7;delta=2.0;rho=0.5;alpha=2.0;beta=1.5;N_jumps_max=10000;T=400;N_paths=1000;gamma=1.0; c=0.8; x_0=10"
   ]
  },
  {
   "cell_type": "code",
   "execution_count": 149,
   "metadata": {},
   "outputs": [],
   "source": [
    "def ruina_DCP(a,rho,delta,alpha,beta,lambda0,T,N_paths,N_jumps_max,x_0,c):\n",
    "    N_T,T_jump,T_self,lambda_p=DCP_generator2(a,rho,delta,alpha,beta,lambda0,T,N_paths,N_jumps_max)\n",
    "    claims=[]\n",
    "    i=0\n",
    "    for i in (N_T):\n",
    "        j=0\n",
    "        z=[]\n",
    "        while j<i:\n",
    "            y=(-1/gamma)*np.log(np.random.rand())\n",
    "            z.append(y)\n",
    "            j=j+1\n",
    "            if j == 200000:\n",
    "                break\n",
    "        claim=x_0+c*T-(np.sum(z))    \n",
    "        claims.append(claim)\n",
    "    h=0\n",
    "    count=0\n",
    "    while h < len(claims):\n",
    "        \n",
    "        if claims[h]<=0:\n",
    "            count=count+1\n",
    "        h=h+1\n",
    "        if h==200000:\n",
    "            break\n",
    "\n",
    "    P_ruina=(count/len(claims))\n",
    "    return P_ruina,claims"
   ]
  },
  {
   "cell_type": "code",
   "execution_count": 142,
   "metadata": {},
   "outputs": [
    {
     "name": "stderr",
     "output_type": "stream",
     "text": [
      "C:\\Users\\hsrc_\\Anaconda3\\lib\\site-packages\\ipykernel_launcher.py:14: RuntimeWarning: divide by zero encountered in double_scalars\n",
      "  \n"
     ]
    }
   ],
   "source": [
    "P_ruina,claims=ruina_DCP(a,rho,delta,alpha,beta,lambda0,T,N_paths,N_jumps_max,x_0,c)"
   ]
  },
  {
   "cell_type": "code",
   "execution_count": 143,
   "metadata": {},
   "outputs": [
    {
     "data": {
      "text/plain": [
       "0.053"
      ]
     },
     "execution_count": 143,
     "metadata": {},
     "output_type": "execute_result"
    }
   ],
   "source": [
    "P_ruina"
   ]
  },
  {
   "cell_type": "code",
   "execution_count": 150,
   "metadata": {},
   "outputs": [
    {
     "data": {
      "text/plain": [
       "[0.166, 1.0, 1.0, 1.0, 1.0, 1.0, 1.0, 1.0, 1.0, 1.0, 1.0, 1.0, 1.0]"
      ]
     },
     "execution_count": 150,
     "metadata": {},
     "output_type": "execute_result"
    }
   ],
   "source": [
    "P_ruina2=[]\n",
    "for lambda0 in range(13):\n",
    "    P_ruina,claims=ruina_DCP(a,rho,delta,alpha,beta,lambda0,T,N_paths,N_jumps_max,x_0,c)\n",
    "    P_ruina2.append(P_ruina)\n",
    "P_ruina2"
   ]
  },
  {
   "cell_type": "code",
   "execution_count": null,
   "metadata": {},
   "outputs": [],
   "source": []
  }
 ],
 "metadata": {
  "kernelspec": {
   "display_name": "Python 3",
   "language": "python",
   "name": "python3"
  },
  "language_info": {
   "codemirror_mode": {
    "name": "ipython",
    "version": 3
   },
   "file_extension": ".py",
   "mimetype": "text/x-python",
   "name": "python",
   "nbconvert_exporter": "python",
   "pygments_lexer": "ipython3",
   "version": "3.7.3"
  }
 },
 "nbformat": 4,
 "nbformat_minor": 2
}
