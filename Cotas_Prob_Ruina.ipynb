{
 "cells": [
  {
   "cell_type": "code",
   "execution_count": 1,
   "metadata": {},
   "outputs": [],
   "source": [
    "import matplotlib.pyplot as plt\n",
    "from scipy.stats import describe\n",
    "import numpy as np\n",
    "import pandas as pd\n",
    "import operator\n",
    "from sympy import symbols, Eq, solve\n",
    "from sympy import *\n",
    "import cmath \n",
    "import math\n",
    "from astropy.table import QTable, Table, Column\n",
    "from astropy import units as u"
   ]
  },
  {
   "cell_type": "markdown",
   "metadata": {},
   "source": [
    "Este código permite recrear la simulación propuesta por Dassios y Zhao (2012) de las cotas de la probabilidad de ruina bajo ambas medidas de probabilidad"
   ]
  },
  {
   "cell_type": "code",
   "execution_count": 2,
   "metadata": {},
   "outputs": [],
   "source": [
    "def simulation3(a,rho,delta,alpha,beta,lambda0,T):\n",
    "    T0=0\n",
    "    Nt=[]\n",
    "    Nt.append(0)\n",
    "    E=(-1/rho)*(np.log(np.random.rand()))\n",
    "    d1=1+((delta*np.log(np.random.rand()))/(lambda0-a))\n",
    "    lambdat=[]\n",
    "    Ti=[]\n",
    "    size=[]\n",
    "    sizeSJ=[]\n",
    "    sizeEJ=[]\n",
    "    if d1>0:\n",
    "        S1=(-np.log(d1))/delta\n",
    "        S2=(-np.log(np.random.rand()))/a\n",
    "        S= min(S1,S2)\n",
    "    else:\n",
    "        S2=(-np.log(np.random.rand()))/a\n",
    "        S=S2\n",
    "    Ti.append(T0+min(S,E))\n",
    "    lambdamenos=a+(lambda0-a)*np.exp(-delta*(Ti[0]-T0))\n",
    "    if S<E:\n",
    "        SJ=(-1/beta)*np.log(np.random.rand())\n",
    "        lambdat.append(lambdamenos+SJ)\n",
    "        sizeSJ.append(SJ)\n",
    "        N=1\n",
    "    else:\n",
    "        EJ=(-1/alpha)*np.log(np.random.rand())\n",
    "        lambdat.append(lambdamenos+EJ)\n",
    "        sizeEJ.append(EJ)\n",
    "        N=0\n",
    "    Nt[0]=N\n",
    "    i=1\n",
    "    Tx=Ti[-1]\n",
    "    while Tx<T:\n",
    "        E=(-1/rho)*(np.log(np.random.rand()))\n",
    "        d1=1+((delta*np.log(np.random.rand()))/lambdat[i-1]-a)\n",
    "        if d1>0:\n",
    "            S1=(-np.log(d1))/delta\n",
    "            S2=(-np.log(np.random.rand()))/a\n",
    "            S= min(S1,S2)\n",
    "        else:\n",
    "            S2=(-np.log(np.random.rand()))/a\n",
    "            S=S2\n",
    "        Tx=Ti[i-1]+min(S,E)\n",
    "        if Tx>T:\n",
    "            break\n",
    "        Ti.append(Tx)\n",
    "        \n",
    "        if S<E:\n",
    "            SJ=(-1/beta)*np.log(np.random.rand())\n",
    "            lambdat.append(lambdamenos+SJ)\n",
    "            sizeSJ.append(SJ)\n",
    "            N=1+N\n",
    "        else:\n",
    "            EJ=(-1/alpha)*np.log(np.random.rand())\n",
    "            lambdat.append(lambdamenos+EJ)\n",
    "            sizeEJ.append(EJ)\n",
    "            N=0+N\n",
    "        Nt.append(N)\n",
    "        i=i+1\n",
    "        if i==1000000:\n",
    "            break\n",
    "    return Ti,Nt,N,lambdat,sizeSJ,sizeEJ"
   ]
  },
  {
   "cell_type": "markdown",
   "metadata": {},
   "source": [
    "Los parámetros a utilizar durante la primera simulación serán:\n",
    "$$(a,\\rho,\\delta,\\alpha,\\beta,\\gamma,\\lambda_0,T,c,x_0)=(0.7,0.5,3.0,2.0,1.5,1.0,0.7,400,1.5,10) $$"
   ]
  },
  {
   "cell_type": "code",
   "execution_count": 29,
   "metadata": {},
   "outputs": [],
   "source": [
    "a=0.7\n",
    "rho=0.5\n",
    "delta=3.0\n",
    "alpha=2.0\n",
    "beta=1.5\n",
    "gamma=1.0\n",
    "lambda0=0.7\n",
    "c=1.5\n",
    "x_0=10\n",
    "T=400"
   ]
  },
  {
   "cell_type": "code",
   "execution_count": 4,
   "metadata": {},
   "outputs": [],
   "source": [
    "Ti,Nt,N,lambdat,sizeSJ,sizeEJ=simulation3(a,rho,delta,alpha,beta,lambda0,T)"
   ]
  },
  {
   "cell_type": "markdown",
   "metadata": {},
   "source": [
    "Distribución exponencial de las reclamaciones "
   ]
  },
  {
   "cell_type": "code",
   "execution_count": 5,
   "metadata": {},
   "outputs": [],
   "source": [
    "z=[]\n",
    "i=0\n",
    "while i<len(Nt):\n",
    "    y=(-1/gamma)*np.log(np.random.rand())\n",
    "    z.append(y)\n",
    "    i=i+1\n",
    "    if i==200000:\n",
    "        break\n",
    "mu1G=describe(sizeSJ).mean\n",
    "mu1H=describe(sizeEJ).mean\n",
    "mu1Z=describe(z).mean"
   ]
  },
  {
   "cell_type": "code",
   "execution_count": 6,
   "metadata": {},
   "outputs": [],
   "source": [
    "#Conteo del número de saltos internos\n",
    "i=0\n",
    "Nt_final=[]\n",
    "while i <(len(Nt)):\n",
    "    \n",
    "    if i==0:\n",
    "        h=Nt[0]\n",
    "        \n",
    "    else:\n",
    "        h=Nt[i]-Nt[i-1]\n",
    "    Nt_final.append(h)    \n",
    "    i=i+1\n",
    "    if i ==10000000:\n",
    "        break"
   ]
  },
  {
   "cell_type": "code",
   "execution_count": 7,
   "metadata": {},
   "outputs": [],
   "source": [
    "#Tiempos de saltos internos\n",
    "Ti_S = list(map(operator.mul, Ti, Nt_final))\n",
    "#Tamaño de los saltos internos\n",
    "z_S = list(map(operator.mul, z, Nt_final))"
   ]
  },
  {
   "cell_type": "code",
   "execution_count": 8,
   "metadata": {},
   "outputs": [],
   "source": [
    "X_t=[]\n",
    "i=0\n",
    "while i<len(Ti):\n",
    "    xt=x_0+c*(Ti[i])-np.cumsum(z_S)[i]\n",
    "    X_t.append(xt)\n",
    "    i=i+1\n",
    "    if i==2000000:\n",
    "        break"
   ]
  },
  {
   "cell_type": "code",
   "execution_count": 9,
   "metadata": {},
   "outputs": [],
   "source": [
    "def ruina3(a,rho,delta,alpha,beta,gamma,lambda0,T,x_0,c,sim):\n",
    "    \n",
    "    x_t=[]\n",
    "    z1=[]\n",
    "    initial=0\n",
    "    i=0\n",
    "    while initial<sim:\n",
    "        Ti,Nt,N,lambdat,sizeSJ,sizeEJ=simulation3(a,rho,delta,alpha,beta,lambda0,T)\n",
    "       \n",
    "        z1=np.random.exponential(scale=1/gamma,size=np.max(Nt))\n",
    "        x=x_0+c*T-np.sum(z1)\n",
    "        x_t.append(x)\n",
    "        initial=initial+1\n",
    "        if initial==100000:\n",
    "            break\n",
    "    return x_t,z1"
   ]
  },
  {
   "cell_type": "code",
   "execution_count": 10,
   "metadata": {},
   "outputs": [],
   "source": [
    "x_t,z1=ruina3(a,rho,delta,alpha,beta,gamma,lambda0,400,x_0,c,100)"
   ]
  },
  {
   "cell_type": "code",
   "execution_count": 11,
   "metadata": {},
   "outputs": [
    {
     "data": {
      "text/plain": [
       "0.7"
      ]
     },
     "execution_count": 11,
     "metadata": {},
     "output_type": "execute_result"
    }
   ],
   "source": [
    "lambda0"
   ]
  },
  {
   "cell_type": "code",
   "execution_count": 12,
   "metadata": {},
   "outputs": [
    {
     "data": {
      "text/plain": [
       "0.0"
      ]
     },
     "execution_count": 12,
     "metadata": {},
     "output_type": "execute_result"
    }
   ],
   "source": [
    "i=0\n",
    "count=0\n",
    "while i < len(x_t):\n",
    "    if x_t[i]<0:\n",
    "        count=count+1\n",
    "    i=i+1\n",
    "    if i==200000:\n",
    "        break\n",
    "\n",
    "P_ruina=(count/len(x_t))        \n",
    "P_ruina"
   ]
  },
  {
   "cell_type": "code",
   "execution_count": 13,
   "metadata": {},
   "outputs": [
    {
     "name": "stderr",
     "output_type": "stream",
     "text": [
      "C:\\Users\\hsrc_\\Anaconda3\\lib\\site-packages\\ipykernel_launcher.py:6: RuntimeWarning: divide by zero encountered in double_scalars\n",
      "  \n"
     ]
    },
    {
     "data": {
      "text/plain": [
       "[0.0, 0.02, 0.02, 0.09, 0.14, 0.16, 0.23, 0.29, 0.35, 0.45, 0.52, 0.51, 0.49]"
      ]
     },
     "execution_count": 13,
     "metadata": {},
     "output_type": "execute_result"
    }
   ],
   "source": [
    "T=400\n",
    "c=0.9\n",
    "sim=100\n",
    "P_ruina2=[]\n",
    "\n",
    "for lambda0 in range(13):\n",
    "    x_t,z1=ruina3(a,rho,delta,alpha,beta,gamma,lambda0,T,x_0,c,sim)\n",
    "    \n",
    "    ixs=np.array(x_t) <0\n",
    "    count=sum(ixs)\n",
    "    \n",
    "   \n",
    "\n",
    "    P_ruina=(count/len(x_t))        \n",
    "    P_ruina2.append(P_ruina)\n",
    "        \n",
    "P_ruina2"
   ]
  },
  {
   "cell_type": "markdown",
   "metadata": {},
   "source": [
    "Cálculo de las soluciones de la ecuación generalizada de Lundberg"
   ]
  },
  {
   "cell_type": "code",
   "execution_count": 4,
   "metadata": {},
   "outputs": [
    {
     "data": {
      "text/plain": [
       "[0.0, 1.16666666666667]"
      ]
     },
     "execution_count": 4,
     "metadata": {},
     "output_type": "execute_result"
    }
   ],
   "source": [
    "#etta estrella\n",
    "x=Symbol('x')\n",
    "etta_estrella=solve(1+delta*x-(beta/(beta-x)), x)\n",
    "etta_estrella"
   ]
  },
  {
   "cell_type": "code",
   "execution_count": 5,
   "metadata": {},
   "outputs": [],
   "source": [
    "#Calculo de etta y v\n",
    "x=Symbol('x')\n",
    "etta=solve(1+delta*x-((gamma)/(gamma-(((-a*delta*x)+(rho*(1-(alpha/(alpha-x)))))/(-c))))*(beta/(beta-x)), x)"
   ]
  },
  {
   "cell_type": "code",
   "execution_count": 6,
   "metadata": {},
   "outputs": [
    {
     "data": {
      "text/plain": [
       "[0.0,\n",
       " 0.144101998768582 + 0.e-21*I,\n",
       " 1.60039412704443 + 0.e-22*I,\n",
       " 2.37455149323461 - 0.e-23*I]"
      ]
     },
     "execution_count": 6,
     "metadata": {},
     "output_type": "execute_result"
    }
   ],
   "source": [
    "etta"
   ]
  },
  {
   "cell_type": "code",
   "execution_count": 7,
   "metadata": {},
   "outputs": [
    {
     "data": {
      "text/plain": [
       "[0,\n",
       " 0.227624608352676 + 2.69958426083736e-21*I,\n",
       " 3.57552892689452 + 2.95132208532502e-22*I,\n",
       " 1.21113217903851 - 1.62844761275e-22*I]"
      ]
     },
     "execution_count": 7,
     "metadata": {},
     "output_type": "execute_result"
    }
   ],
   "source": [
    "v_=[]\n",
    "for i in range(0,np.size(etta)):\n",
    "    v1=((-a*delta*etta[i])+(rho*(1-(alpha/(alpha-etta[i])))))/(-c)\n",
    "    v_.append(v1)\n",
    "v_"
   ]
  },
  {
   "cell_type": "code",
   "execution_count": 8,
   "metadata": {},
   "outputs": [
    {
     "data": {
      "text/plain": [
       "(0.227624608352676, 0.144101998768582)"
      ]
     },
     "execution_count": 8,
     "metadata": {},
     "output_type": "execute_result"
    }
   ],
   "source": [
    "etta_0=abs(etta[1])\n",
    "v_0=((-a*delta*etta_0)+(rho*(1-(alpha/(alpha-etta_0)))))/(-c)\n",
    "v_0,etta_0"
   ]
  },
  {
   "cell_type": "markdown",
   "metadata": {},
   "source": [
    "Cálculo de las cotas superiores de la probabilidad de ruina"
   ]
  },
  {
   "cell_type": "code",
   "execution_count": 10,
   "metadata": {},
   "outputs": [
    {
     "name": "stdout",
     "output_type": "stream",
     "text": [
      "[11.86, 13.7, 15.82, 18.27, 21.1, 24.37, 28.15, 32.52, 37.56, 43.38, 50.1, 57.87] [9.16, 10.58, 12.22, 14.11, 16.3, 18.83, 21.74, 25.11, 29.01, 33.5, 38.7, 44.7]\n"
     ]
    }
   ],
   "source": [
    "#Cotas Superior\n",
    "bound1=[]\n",
    "bound2=[]\n",
    "for i in lambdaa:\n",
    "    bound1_1=round(exp(etta_0*i)*exp(-v_0*x_0),4)\n",
    "    bound1.append(round(bound1_1*100,4))\n",
    "    bound2_1=round(((gamma-v_0)*exp(etta_0*i)*exp(-v_0*x_0))/(gamma),4)\n",
    "    bound2.append(round(bound2_1*100,4))\n",
    "    \n",
    "print(bound1,bound2)"
   ]
  },
  {
   "cell_type": "code",
   "execution_count": 11,
   "metadata": {},
   "outputs": [
    {
     "data": {
      "text/html": [
       "<i>Table length=12</i>\n",
       "<table id=\"table1835736266512\" class=\"table-striped table-bordered table-condensed\">\n",
       "<thead><tr><th>Lambda</th><th>Up Bound 1 (%)</th><th>Up Bound 2 (%)</th></tr></thead>\n",
       "<thead><tr><th>float64</th><th>float64</th><th>float64</th></tr></thead>\n",
       "<tr><td>1.0</td><td>11.86</td><td>9.16</td></tr>\n",
       "<tr><td>2.0</td><td>13.7</td><td>10.58</td></tr>\n",
       "<tr><td>3.0</td><td>15.82</td><td>12.22</td></tr>\n",
       "<tr><td>4.0</td><td>18.27</td><td>14.11</td></tr>\n",
       "<tr><td>5.0</td><td>21.1</td><td>16.3</td></tr>\n",
       "<tr><td>6.0</td><td>24.37</td><td>18.83</td></tr>\n",
       "<tr><td>7.0</td><td>28.15</td><td>21.74</td></tr>\n",
       "<tr><td>8.0</td><td>32.52</td><td>25.11</td></tr>\n",
       "<tr><td>9.0</td><td>37.56</td><td>29.01</td></tr>\n",
       "<tr><td>10.0</td><td>43.38</td><td>33.5</td></tr>\n",
       "<tr><td>11.0</td><td>50.1</td><td>38.7</td></tr>\n",
       "<tr><td>12.0</td><td>57.87</td><td>44.7</td></tr>\n",
       "</table>"
      ],
      "text/plain": [
       "<Table length=12>\n",
       " Lambda Up Bound 1 (%) Up Bound 2 (%)\n",
       "float64    float64        float64    \n",
       "------- -------------- --------------\n",
       "    1.0          11.86           9.16\n",
       "    2.0           13.7          10.58\n",
       "    3.0          15.82          12.22\n",
       "    4.0          18.27          14.11\n",
       "    5.0           21.1           16.3\n",
       "    6.0          24.37          18.83\n",
       "    7.0          28.15          21.74\n",
       "    8.0          32.52          25.11\n",
       "    9.0          37.56          29.01\n",
       "   10.0          43.38           33.5\n",
       "   11.0           50.1           38.7\n",
       "   12.0          57.87           44.7"
      ]
     },
     "execution_count": 11,
     "metadata": {},
     "output_type": "execute_result"
    }
   ],
   "source": [
    "t = Table([lambdaa, bound1, bound2], names=('Lambda', 'Up Bound 1 (%)', 'Up Bound 2 (%)'))\n",
    "t"
   ]
  },
  {
   "cell_type": "markdown",
   "metadata": {},
   "source": [
    "Gráfica de las cotas de la probabilidad de ruina"
   ]
  },
  {
   "cell_type": "code",
   "execution_count": 12,
   "metadata": {},
   "outputs": [
    {
     "data": {
      "text/plain": [
       "<matplotlib.legend.Legend at 0x1ab6a783128>"
      ]
     },
     "execution_count": 12,
     "metadata": {},
     "output_type": "execute_result"
    },
    {
     "data": {
      "image/png": "[encoded data removed]",
      "text/plain": [
       "<Figure size 1080x432 with 1 Axes>"
      ]
     },
     "metadata": {
      "needs_background": "light"
     },
     "output_type": "display_data"
    }
   ],
   "source": [
    "plt.figure(figsize=(15,6))\n",
    "plt.plot(lambdaa,bound1,label='Up Bound 1',color='red')\n",
    "plt.plot(lambdaa,bound2, color='blue', label='Up Bound 2')\n",
    "#plt.plot(lambdaa,PP,color='green',label='Simulated Ruin Probability')\n",
    "plt.xlabel('Intensity')\n",
    "plt.ylabel('Probability (%)')\n",
    "plt.xlim(0,np.max(lambdaa))\n",
    "plt.legend([r'$e^{-v_0^+ x}e^{\\eta_0^+ \\lambda}$',r'$\\frac{\\gamma - v_0^+}{\\gamma}e^{-v_0^+ x}e^{\\eta_0^+ \\lambda}$'])"
   ]
  },
  {
   "cell_type": "markdown",
   "metadata": {},
   "source": [
    "Bajo la nueva medida se cambian los parámetros de la siguiente manera"
   ]
  },
  {
   "cell_type": "code",
   "execution_count": 13,
   "metadata": {},
   "outputs": [
    {
     "data": {
      "text/html": [
       "<i>Table length=12</i>\n",
       "<table id=\"table1835739671632\" class=\"table-striped table-bordered table-condensed\">\n",
       "<thead><tr><th>Parameters</th><th>Values</th></tr></thead>\n",
       "<thead><tr><th>str7</th><th>object</th></tr></thead>\n",
       "<tr><td>a2</td><td>1.0026</td></tr>\n",
       "<tr><td>c2</td><td>1.5</td></tr>\n",
       "<tr><td>delta2</td><td>3.0</td></tr>\n",
       "<tr><td>rho2</td><td>0.5388</td></tr>\n",
       "<tr><td>gamma2</td><td>0.7724</td></tr>\n",
       "<tr><td>beta2</td><td>0.9467</td></tr>\n",
       "<tr><td>alpha2</td><td>1.2957</td></tr>\n",
       "<tr><td>lambda2</td><td>1.0026</td></tr>\n",
       "<tr><td>etta_0</td><td>0.144101998768582</td></tr>\n",
       "<tr><td>v_0</td><td>0.227624608352676</td></tr>\n",
       "<tr><td>m_0</td><td>0.1006</td></tr>\n",
       "<tr><td>phi</td><td>0.7724</td></tr>\n",
       "</table>"
      ],
      "text/plain": [
       "<Table length=12>\n",
       "Parameters       Values     \n",
       "   str7          object     \n",
       "---------- -----------------\n",
       "        a2            1.0026\n",
       "        c2               1.5\n",
       "    delta2               3.0\n",
       "      rho2            0.5388\n",
       "    gamma2            0.7724\n",
       "     beta2            0.9467\n",
       "    alpha2            1.2957\n",
       "   lambda2            1.0026\n",
       "    etta_0 0.144101998768582\n",
       "       v_0 0.227624608352676\n",
       "       m_0            0.1006\n",
       "       phi            0.7724"
      ]
     },
     "execution_count": 13,
     "metadata": {},
     "output_type": "execute_result"
    }
   ],
   "source": [
    "a2=round((1+delta*etta_0)*a,4)\n",
    "c2=c\n",
    "delta2=delta\n",
    "rho2=round((alpha*rho)/(alpha-etta_0),4)\n",
    "gamma2=round(gamma-v_0,4)\n",
    "beta2=round((beta-etta_0)/(1+delta*etta_0),4)\n",
    "alpha2=round((alpha-etta_0)/(1+delta*etta_0),4)\n",
    "lambda2=round((1+delta*etta_0)*lambda0,4)\n",
    "m_0=round(etta_0/(etta_0*delta+1),4)\n",
    "phi=round((gamma -v_0)/gamma,4)\n",
    "vector1=['a2','c2','delta2','rho2','gamma2','beta2','alpha2','lambda2','etta_0','v_0','m_0','phi']\n",
    "vector2=[a2,c2,delta2,rho2,gamma2,beta2,alpha2,lambda2,etta_0,v_0,m_0,phi]\n",
    "new_values= Table([vector1, vector2], names=('Parameters', 'Values'))\n",
    "new_values"
   ]
  },
  {
   "cell_type": "code",
   "execution_count": 54,
   "metadata": {},
   "outputs": [],
   "source": [
    "def ruina_ok(a,rho,delta,alpha,beta,gamma,lambda0,T,x_0,c,sim):\n",
    "    initial=0\n",
    "    i=0\n",
    "    ruinas=[]\n",
    "    while initial<sim:\n",
    "        Ti,Nt,N,lambdat,sizeSJ,sizeEJ=simulation3(a,rho,delta,alpha,beta,lambda0,T)\n",
    "        Nt_final=[]\n",
    "        z=[]\n",
    "        while i <(len(Nt)):\n",
    "            y=np.random.exponential(scale=1/gamma)\n",
    "            z.append(y)\n",
    "            if i==0:\n",
    "                h=Nt[0]\n",
    "\n",
    "            else:\n",
    "                h=Nt[i]-Nt[i-1]\n",
    "            Nt_final.append(h)    \n",
    "            i=i+1\n",
    "            if i ==10000000:\n",
    "                break\n",
    "        Ti_S = list(map(operator.mul, Ti, Nt_final))\n",
    "        z_S = list(map(operator.mul, z, Nt_final))\n",
    "        X_t=[]\n",
    "        j=0\n",
    "        \n",
    "        while i<len(Ti):\n",
    "            xt=x_0+c*(Ti[j])-np.cumsum(z_S)[j]\n",
    "            X_t.append(xt)\n",
    "            j=j+1\n",
    "            if j==2000000:\n",
    "                break\n",
    "        ruina1=[]\n",
    "        for number in X_t:\n",
    "            if number <0:\n",
    "                ruina1.append(1)\n",
    "                break\n",
    "            else:\n",
    "                ruina1.append(0)\n",
    "        ruinas.append(lambdat[len(ruina1)-1])\n",
    "        initial=initial+1\n",
    "        \n",
    "        \n",
    "    return ruinas"
   ]
  },
  {
   "cell_type": "code",
   "execution_count": 69,
   "metadata": {},
   "outputs": [
    {
     "name": "stderr",
     "output_type": "stream",
     "text": [
      "C:\\Users\\hsrc_\\Anaconda3\\lib\\site-packages\\ipykernel_launcher.py:6: RuntimeWarning: divide by zero encountered in double_scalars\n",
      "  \n"
     ]
    }
   ],
   "source": [
    "ruinas=ruina_ok(a2,rho2,delta2,alpha2,beta2,gamma2,lambda2,T,0,c2,10000)"
   ]
  },
  {
   "cell_type": "markdown",
   "metadata": {},
   "source": [
    "La probabilidad de ruina será determinada bajo el cambio de medida como:"
   ]
  },
  {
   "cell_type": "code",
   "execution_count": 71,
   "metadata": {},
   "outputs": [
    {
     "name": "stdout",
     "output_type": "stream",
     "text": [
      "1.20186293020250 1.39741547640622\n"
     ]
    }
   ],
   "source": [
    "x=x_0\n",
    "term1=(rho2*(alpha2-beta2))/(delta2*(alpha2-beta2)+1)\n",
    "term2=(1/delta2)*(a2+(rho2/(delta2*(alpha2-beta2)+1)))\n",
    "term3=(delta2*beta2-1)/delta2\n",
    "term4=(((a2*delta2)+(rho2/(alpha2+m_0)))/(delta2-(1/(beta2+m_0))))\n",
    "expected1=((alpha2/(alpha2-m_0))**(term1))*((term3/(term3-m_0))**(term2))*exp(m_0*a2)\n",
    "expected2=((alpha2/(alpha2+m_0))**(term1))*((term3/(term3+m_0))**(term2))*term4*exp(-m_0*a2)\n",
    "expected3=((rho2/alpha2)+a2*delta2)/(delta2-(1/beta2))\n",
    "expected5=np.mean(np.exp(np.dot(-m_0,ruinas)))\n",
    "print(expected1,expected2)"
   ]
  },
  {
   "cell_type": "markdown",
   "metadata": {},
   "source": [
    "Aproximación de la probabilidad de ruina "
   ]
  },
  {
   "cell_type": "code",
   "execution_count": 72,
   "metadata": {},
   "outputs": [
    {
     "name": "stdout",
     "output_type": "stream",
     "text": [
      "0.613885693794713 0.613885693794713\n"
     ]
    }
   ],
   "source": [
    "C=((phi*(beta-etta_0))/(beta))*expected1*(((expected2/gamma2)-c2*expected5)/((expected3/gamma2)-c2))\n",
    "prob2=C*exp(-v_0*x)\n",
    "print(C,prob2)"
   ]
  },
  {
   "cell_type": "markdown",
   "metadata": {},
   "source": [
    "Probabilidad de ruina bajo la nueva medida para distintos valores de la reserva"
   ]
  },
  {
   "cell_type": "code",
   "execution_count": 73,
   "metadata": {},
   "outputs": [
    {
     "name": "stdout",
     "output_type": "stream",
     "text": [
      "0.246980728408695\n",
      "0.156657374761145\n",
      "0.0993661862817218\n",
      "0.0630269656390461\n",
      "0.0399773660066112\n",
      "0.0253572383918868\n",
      "0.0160838395095026\n",
      "0.0102018165136708\n",
      "0.00647090889691574\n",
      "0.00410443197993931\n",
      "0.00260339963771984\n",
      "0.00165131002457983\n",
      "0.00104740922514151\n",
      "0.000664361063992624\n"
     ]
    }
   ],
   "source": [
    "for x in range(4,32,2):\n",
    "    C=((phi*(beta-etta_0))/(beta))*expected1*(((expected2/gamma2)-c2*expected5)/((expected3/gamma2)-c2))\n",
    "    prob2=C*exp(-v_0*x)\n",
    "    print(prob2)"
   ]
  },
  {
   "cell_type": "code",
   "execution_count": null,
   "metadata": {},
   "outputs": [],
   "source": []
  }
 ],
 "metadata": {
  "kernelspec": {
   "display_name": "Python 3",
   "language": "python",
   "name": "python3"
  },
  "language_info": {
   "codemirror_mode": {
    "name": "ipython",
    "version": 3
   },
   "file_extension": ".py",
   "mimetype": "text/x-python",
   "name": "python",
   "nbconvert_exporter": "python",
   "pygments_lexer": "ipython3",
   "version": "3.7.3"
  }
 },
 "nbformat": 4,
 "nbformat_minor": 2
}
